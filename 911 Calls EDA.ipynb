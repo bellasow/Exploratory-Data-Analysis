{
 "cells": [
  {
   "cell_type": "markdown",
   "id": "d81e5203",
   "metadata": {},
   "source": [
    "# 911 Calls EDA Project"
   ]
  },
  {
   "cell_type": "markdown",
   "id": "75c9feec",
   "metadata": {},
   "source": [
    "For this project, we will be analyzing some Emergency (911) Calls: Fire, Traffic, EMS for Montgomery County, PA from [Kaggle](https://www.kaggle.com/mchirico/montcoalert).\n"
   ]
  },
  {
   "cell_type": "markdown",
   "id": "b9048051",
   "metadata": {},
   "source": [
    "#### As we dive deeper in this project, let's have in the back of our mind these main questions:\n",
    "* Why do people call 911 ?\n",
    "* When and where those calls are made ?\n",
    "* What's the current trend of 911 calls ?"
   ]
  },
  {
   "cell_type": "markdown",
   "id": "13a82e21",
   "metadata": {},
   "source": [
    "### Data and Setup"
   ]
  },
  {
   "cell_type": "markdown",
   "id": "542efc1f",
   "metadata": {},
   "source": [
    "#### Importing Numpy and Pandas\n"
   ]
  },
  {
   "cell_type": "code",
   "execution_count": 216,
   "id": "21b11744",
   "metadata": {},
   "outputs": [],
   "source": [
    "import numpy as np\n",
    "import pandas as pd"
   ]
  },
  {
   "cell_type": "markdown",
   "id": "7bb5861b",
   "metadata": {},
   "source": [
    "#### Importing Visualization libraries\n"
   ]
  },
  {
   "cell_type": "code",
   "execution_count": 230,
   "id": "058c922c",
   "metadata": {},
   "outputs": [],
   "source": [
    "import seaborn as sns\n",
    "import matplotlib.pyplot as plt\n",
    "%matplotlib inline"
   ]
  },
  {
   "cell_type": "markdown",
   "id": "8500f769",
   "metadata": {},
   "source": [
    "#### Read the dataset"
   ]
  },
  {
   "cell_type": "code",
   "execution_count": 242,
   "id": "e980d49d",
   "metadata": {},
   "outputs": [],
   "source": [
    "df = pd.read_csv('911.csv')"
   ]
  },
  {
   "cell_type": "code",
   "execution_count": 260,
   "id": "3390d6ab",
   "metadata": {},
   "outputs": [
    {
     "name": "stdout",
     "output_type": "stream",
     "text": [
      "<class 'pandas.core.frame.DataFrame'>\n",
      "RangeIndex: 99492 entries, 0 to 99491\n",
      "Data columns (total 11 columns):\n",
      " #   Column       Non-Null Count  Dtype  \n",
      "---  ------       --------------  -----  \n",
      " 0   Lattitude    99492 non-null  float64\n",
      " 1   Longitude    99492 non-null  float64\n",
      " 2   desc         99492 non-null  object \n",
      " 3   Zipcode      86637 non-null  float64\n",
      " 4   Title        99492 non-null  object \n",
      " 5   TimeStamp    99492 non-null  object \n",
      " 6   Township     99449 non-null  object \n",
      " 7   Address      98973 non-null  object \n",
      " 8   Dummy        99492 non-null  int64  \n",
      " 9   Reason       99492 non-null  object \n",
      " 10  Description  99492 non-null  object \n",
      "dtypes: float64(3), int64(1), object(7)\n",
      "memory usage: 8.3+ MB\n"
     ]
    }
   ],
   "source": [
    "df.info()"
   ]
  },
  {
   "cell_type": "code",
   "execution_count": 243,
   "id": "991416c1",
   "metadata": {},
   "outputs": [
    {
     "data": {
      "text/html": [
       "<div>\n",
       "<style scoped>\n",
       "    .dataframe tbody tr th:only-of-type {\n",
       "        vertical-align: middle;\n",
       "    }\n",
       "\n",
       "    .dataframe tbody tr th {\n",
       "        vertical-align: top;\n",
       "    }\n",
       "\n",
       "    .dataframe thead th {\n",
       "        text-align: right;\n",
       "    }\n",
       "</style>\n",
       "<table border=\"1\" class=\"dataframe\">\n",
       "  <thead>\n",
       "    <tr style=\"text-align: right;\">\n",
       "      <th></th>\n",
       "      <th>lat</th>\n",
       "      <th>lng</th>\n",
       "      <th>desc</th>\n",
       "      <th>zip</th>\n",
       "      <th>title</th>\n",
       "      <th>timeStamp</th>\n",
       "      <th>twp</th>\n",
       "      <th>addr</th>\n",
       "      <th>e</th>\n",
       "    </tr>\n",
       "  </thead>\n",
       "  <tbody>\n",
       "    <tr>\n",
       "      <th>0</th>\n",
       "      <td>40.297876</td>\n",
       "      <td>-75.581294</td>\n",
       "      <td>REINDEER CT &amp; DEAD END;  NEW HANOVER; Station ...</td>\n",
       "      <td>19525.0</td>\n",
       "      <td>EMS: BACK PAINS/INJURY</td>\n",
       "      <td>2015-12-10 17:40:00</td>\n",
       "      <td>NEW HANOVER</td>\n",
       "      <td>REINDEER CT &amp; DEAD END</td>\n",
       "      <td>1</td>\n",
       "    </tr>\n",
       "    <tr>\n",
       "      <th>1</th>\n",
       "      <td>40.258061</td>\n",
       "      <td>-75.264680</td>\n",
       "      <td>BRIAR PATH &amp; WHITEMARSH LN;  HATFIELD TOWNSHIP...</td>\n",
       "      <td>19446.0</td>\n",
       "      <td>EMS: DIABETIC EMERGENCY</td>\n",
       "      <td>2015-12-10 17:40:00</td>\n",
       "      <td>HATFIELD TOWNSHIP</td>\n",
       "      <td>BRIAR PATH &amp; WHITEMARSH LN</td>\n",
       "      <td>1</td>\n",
       "    </tr>\n",
       "    <tr>\n",
       "      <th>2</th>\n",
       "      <td>40.121182</td>\n",
       "      <td>-75.351975</td>\n",
       "      <td>HAWS AVE; NORRISTOWN; 2015-12-10 @ 14:39:21-St...</td>\n",
       "      <td>19401.0</td>\n",
       "      <td>Fire: GAS-ODOR/LEAK</td>\n",
       "      <td>2015-12-10 17:40:00</td>\n",
       "      <td>NORRISTOWN</td>\n",
       "      <td>HAWS AVE</td>\n",
       "      <td>1</td>\n",
       "    </tr>\n",
       "    <tr>\n",
       "      <th>3</th>\n",
       "      <td>40.116153</td>\n",
       "      <td>-75.343513</td>\n",
       "      <td>AIRY ST &amp; SWEDE ST;  NORRISTOWN; Station 308A;...</td>\n",
       "      <td>19401.0</td>\n",
       "      <td>EMS: CARDIAC EMERGENCY</td>\n",
       "      <td>2015-12-10 17:40:01</td>\n",
       "      <td>NORRISTOWN</td>\n",
       "      <td>AIRY ST &amp; SWEDE ST</td>\n",
       "      <td>1</td>\n",
       "    </tr>\n",
       "    <tr>\n",
       "      <th>4</th>\n",
       "      <td>40.251492</td>\n",
       "      <td>-75.603350</td>\n",
       "      <td>CHERRYWOOD CT &amp; DEAD END;  LOWER POTTSGROVE; S...</td>\n",
       "      <td>NaN</td>\n",
       "      <td>EMS: DIZZINESS</td>\n",
       "      <td>2015-12-10 17:40:01</td>\n",
       "      <td>LOWER POTTSGROVE</td>\n",
       "      <td>CHERRYWOOD CT &amp; DEAD END</td>\n",
       "      <td>1</td>\n",
       "    </tr>\n",
       "  </tbody>\n",
       "</table>\n",
       "</div>"
      ],
      "text/plain": [
       "         lat        lng                                               desc  \\\n",
       "0  40.297876 -75.581294  REINDEER CT & DEAD END;  NEW HANOVER; Station ...   \n",
       "1  40.258061 -75.264680  BRIAR PATH & WHITEMARSH LN;  HATFIELD TOWNSHIP...   \n",
       "2  40.121182 -75.351975  HAWS AVE; NORRISTOWN; 2015-12-10 @ 14:39:21-St...   \n",
       "3  40.116153 -75.343513  AIRY ST & SWEDE ST;  NORRISTOWN; Station 308A;...   \n",
       "4  40.251492 -75.603350  CHERRYWOOD CT & DEAD END;  LOWER POTTSGROVE; S...   \n",
       "\n",
       "       zip                    title            timeStamp                twp  \\\n",
       "0  19525.0   EMS: BACK PAINS/INJURY  2015-12-10 17:40:00        NEW HANOVER   \n",
       "1  19446.0  EMS: DIABETIC EMERGENCY  2015-12-10 17:40:00  HATFIELD TOWNSHIP   \n",
       "2  19401.0      Fire: GAS-ODOR/LEAK  2015-12-10 17:40:00         NORRISTOWN   \n",
       "3  19401.0   EMS: CARDIAC EMERGENCY  2015-12-10 17:40:01         NORRISTOWN   \n",
       "4      NaN           EMS: DIZZINESS  2015-12-10 17:40:01   LOWER POTTSGROVE   \n",
       "\n",
       "                         addr  e  \n",
       "0      REINDEER CT & DEAD END  1  \n",
       "1  BRIAR PATH & WHITEMARSH LN  1  \n",
       "2                    HAWS AVE  1  \n",
       "3          AIRY ST & SWEDE ST  1  \n",
       "4    CHERRYWOOD CT & DEAD END  1  "
      ]
     },
     "execution_count": 243,
     "metadata": {},
     "output_type": "execute_result"
    }
   ],
   "source": [
    "df.head()"
   ]
  },
  {
   "cell_type": "markdown",
   "id": "5d997be3",
   "metadata": {},
   "source": [
    "* ##### Let's rename some of the column names."
   ]
  },
  {
   "cell_type": "code",
   "execution_count": 244,
   "id": "d9062189",
   "metadata": {},
   "outputs": [],
   "source": [
    "df.rename(columns={\"lat\": \"Lattitude\", \"lng\": \"Longitude\", \"zip\": \"Zipcode\",\"title\": \"Title\",\n",
    "                   \"timeStamp\": \"TimeStamp\", \"twp\": \"Township\", \"addr\": \"Address\", \"e\": \"Dummy\"},\n",
    "          inplace=True)"
   ]
  },
  {
   "cell_type": "code",
   "execution_count": 259,
   "id": "7cbf6dc1",
   "metadata": {},
   "outputs": [],
   "source": [
    "#df.head()"
   ]
  },
  {
   "cell_type": "markdown",
   "id": "79c43935",
   "metadata": {},
   "source": [
    "The Title column contain information for both reason and a description of the emergency\n",
    "Let's split the title by Reason and Description"
   ]
  },
  {
   "cell_type": "code",
   "execution_count": 246,
   "id": "7417941d",
   "metadata": {},
   "outputs": [],
   "source": [
    "df['Reason'] = df[\"Title\"].apply(lambda x: x.split(\":\")[0])"
   ]
  },
  {
   "cell_type": "code",
   "execution_count": 247,
   "id": "ed6de6bb",
   "metadata": {},
   "outputs": [
    {
     "data": {
      "text/plain": [
       "0     EMS\n",
       "1     EMS\n",
       "2    Fire\n",
       "3     EMS\n",
       "4     EMS\n",
       "Name: Reason, dtype: object"
      ]
     },
     "execution_count": 247,
     "metadata": {},
     "output_type": "execute_result"
    }
   ],
   "source": [
    "df['Reason'].head()"
   ]
  },
  {
   "cell_type": "code",
   "execution_count": 248,
   "id": "197939a3",
   "metadata": {},
   "outputs": [
    {
     "data": {
      "text/plain": [
       "<AxesSubplot:xlabel='Reason', ylabel='count'>"
      ]
     },
     "execution_count": 248,
     "metadata": {},
     "output_type": "execute_result"
    },
    {
     "data": {
      "image/png": "[encoded data removed]",
      "text/plain": [
       "<Figure size 432x288 with 1 Axes>"
      ]
     },
     "metadata": {
      "needs_background": "light"
     },
     "output_type": "display_data"
    }
   ],
   "source": [
    "sns.countplot(x = \"Reason\", data = df)"
   ]
  },
  {
   "cell_type": "code",
   "execution_count": 249,
   "id": "6ae33742",
   "metadata": {},
   "outputs": [],
   "source": [
    "df['Description']= df[\"Title\"].apply(lambda x: x.split(\":\")[1])"
   ]
  },
  {
   "cell_type": "code",
   "execution_count": 250,
   "id": "390b38b1",
   "metadata": {},
   "outputs": [
    {
     "data": {
      "text/plain": [
       " VEHICLE ACCIDENT -       23066\n",
       " DISABLED VEHICLE -        7702\n",
       " VEHICLE ACCIDENT          5573\n",
       " FIRE ALARM                5510\n",
       " RESPIRATORY EMERGENCY     5112\n",
       "                          ...  \n",
       " ACTIVE SHOOTER               2\n",
       " POLICE INFORMATION           2\n",
       " SUSPICIOUS                   2\n",
       " BOMB DEVICE FOUND            1\n",
       " DISABLED VEHICLE             1\n",
       "Name: Description, Length: 81, dtype: int64"
      ]
     },
     "execution_count": 250,
     "metadata": {},
     "output_type": "execute_result"
    }
   ],
   "source": [
    "df[\"Description\"].value_counts()"
   ]
  },
  {
   "cell_type": "code",
   "execution_count": 251,
   "id": "43f62cdc",
   "metadata": {},
   "outputs": [
    {
     "data": {
      "text/plain": [
       "array([' BACK PAINS/INJURY', ' DIABETIC EMERGENCY', ' GAS-ODOR/LEAK',\n",
       "       ' CARDIAC EMERGENCY', ' DIZZINESS', ' HEAD INJURY',\n",
       "       ' NAUSEA/VOMITING', ' RESPIRATORY EMERGENCY', ' SYNCOPAL EPISODE',\n",
       "       ' VEHICLE ACCIDENT -', ' VEHICLE ACCIDENT', ' DISABLED VEHICLE -',\n",
       "       ' APPLIANCE FIRE', ' GENERAL WEAKNESS',\n",
       "       ' CARBON MONOXIDE DETECTOR', ' UNKNOWN MEDICAL EMERGENCY',\n",
       "       ' UNRESPONSIVE SUBJECT', ' ALTERED MENTAL STATUS', ' FIRE ALARM',\n",
       "       ' CVA/STROKE', ' ROAD OBSTRUCTION -', ' SUBJECT IN PAIN',\n",
       "       ' HEMORRHAGING', ' FALL VICTIM', ' ASSAULT VICTIM', ' SEIZURES',\n",
       "       ' MEDICAL ALERT ALARM', ' ABDOMINAL PAINS', ' PUMP DETAIL',\n",
       "       ' FIRE INVESTIGATION', ' OVERDOSE', ' MATERNITY',\n",
       "       ' UNCONSCIOUS SUBJECT', ' CHOKING', ' LACERATIONS',\n",
       "       ' TRASH/DUMPSTER FIRE', ' UNKNOWN TYPE FIRE', ' BUILDING FIRE',\n",
       "       ' ELECTRICAL FIRE OUTSIDE', ' DEBRIS/FLUIDS ON HIGHWAY',\n",
       "       ' DEBRIS/FLUIDS ON HIGHWAY -', ' FEVER', ' ALLERGIC REACTION',\n",
       "       ' VEHICLE LEAKING FUEL -', ' FRACTURE', ' BURN VICTIM',\n",
       "       ' RESCUE - GENERAL', ' WOODS/FIELD FIRE', ' FIRE SPECIAL SERVICE',\n",
       "       ' VEHICLE FIRE', ' VEHICLE FIRE -', ' WARRANT SERVICE',\n",
       "       ' S/B AT HELICOPTER LANDING', ' EMS SPECIAL SERVICE',\n",
       "       ' HAZARDOUS ROAD CONDITIONS -', ' RESCUE - ELEVATOR',\n",
       "       ' DEHYDRATION', ' SHOOTING', ' POISONING', ' TRANSFERRED CALL',\n",
       "       ' RESCUE - TECHNICAL', ' VEHICLE LEAKING FUEL', ' EYE INJURY',\n",
       "       ' ELECTROCUTION', ' STABBING', ' FIRE POLICE NEEDED',\n",
       "       ' AMPUTATION', ' ANIMAL BITE', ' HAZARDOUS MATERIALS INCIDENT',\n",
       "       ' TRAIN CRASH', ' RESCUE - WATER', ' CARDIAC ARREST',\n",
       "       ' PLANE CRASH', ' HEAT EXHAUSTION', ' ACTIVE SHOOTER',\n",
       "       ' DISABLED VEHICLE', ' POLICE INFORMATION', ' BOMB DEVICE FOUND',\n",
       "       ' INDUSTRIAL ACCIDENT', ' DROWNING', ' SUSPICIOUS'], dtype=object)"
      ]
     },
     "execution_count": 251,
     "metadata": {},
     "output_type": "execute_result"
    }
   ],
   "source": [
    "df[\"Description\"].unique()"
   ]
  },
  {
   "cell_type": "code",
   "execution_count": 257,
   "id": "676319fd",
   "metadata": {},
   "outputs": [
    {
     "data": {
      "text/html": [
       "<div>\n",
       "<style scoped>\n",
       "    .dataframe tbody tr th:only-of-type {\n",
       "        vertical-align: middle;\n",
       "    }\n",
       "\n",
       "    .dataframe tbody tr th {\n",
       "        vertical-align: top;\n",
       "    }\n",
       "\n",
       "    .dataframe thead tr th {\n",
       "        text-align: left;\n",
       "    }\n",
       "\n",
       "    .dataframe thead tr:last-of-type th {\n",
       "        text-align: right;\n",
       "    }\n",
       "</style>\n",
       "<table border=\"1\" class=\"dataframe\">\n",
       "  <thead>\n",
       "    <tr>\n",
       "      <th></th>\n",
       "      <th colspan=\"3\" halign=\"left\">Dummy</th>\n",
       "      <th colspan=\"3\" halign=\"left\">Lattitude</th>\n",
       "      <th colspan=\"3\" halign=\"left\">Longitude</th>\n",
       "      <th colspan=\"3\" halign=\"left\">Zipcode</th>\n",
       "    </tr>\n",
       "    <tr>\n",
       "      <th>Reason</th>\n",
       "      <th>EMS</th>\n",
       "      <th>Fire</th>\n",
       "      <th>Traffic</th>\n",
       "      <th>EMS</th>\n",
       "      <th>Fire</th>\n",
       "      <th>Traffic</th>\n",
       "      <th>EMS</th>\n",
       "      <th>Fire</th>\n",
       "      <th>Traffic</th>\n",
       "      <th>EMS</th>\n",
       "      <th>Fire</th>\n",
       "      <th>Traffic</th>\n",
       "    </tr>\n",
       "    <tr>\n",
       "      <th>Description</th>\n",
       "      <th></th>\n",
       "      <th></th>\n",
       "      <th></th>\n",
       "      <th></th>\n",
       "      <th></th>\n",
       "      <th></th>\n",
       "      <th></th>\n",
       "      <th></th>\n",
       "      <th></th>\n",
       "      <th></th>\n",
       "      <th></th>\n",
       "      <th></th>\n",
       "    </tr>\n",
       "  </thead>\n",
       "  <tbody>\n",
       "    <tr>\n",
       "      <th>ABDOMINAL PAINS</th>\n",
       "      <td>1.0</td>\n",
       "      <td>NaN</td>\n",
       "      <td>NaN</td>\n",
       "      <td>40.172037</td>\n",
       "      <td>NaN</td>\n",
       "      <td>NaN</td>\n",
       "      <td>-75.341162</td>\n",
       "      <td>NaN</td>\n",
       "      <td>NaN</td>\n",
       "      <td>19256.606352</td>\n",
       "      <td>NaN</td>\n",
       "      <td>NaN</td>\n",
       "    </tr>\n",
       "    <tr>\n",
       "      <th>ACTIVE SHOOTER</th>\n",
       "      <td>1.0</td>\n",
       "      <td>NaN</td>\n",
       "      <td>NaN</td>\n",
       "      <td>40.218105</td>\n",
       "      <td>NaN</td>\n",
       "      <td>NaN</td>\n",
       "      <td>-75.188401</td>\n",
       "      <td>NaN</td>\n",
       "      <td>NaN</td>\n",
       "      <td>19272.000000</td>\n",
       "      <td>NaN</td>\n",
       "      <td>NaN</td>\n",
       "    </tr>\n",
       "    <tr>\n",
       "      <th>ALLERGIC REACTION</th>\n",
       "      <td>1.0</td>\n",
       "      <td>NaN</td>\n",
       "      <td>NaN</td>\n",
       "      <td>40.159446</td>\n",
       "      <td>NaN</td>\n",
       "      <td>NaN</td>\n",
       "      <td>-75.318172</td>\n",
       "      <td>NaN</td>\n",
       "      <td>NaN</td>\n",
       "      <td>19229.756098</td>\n",
       "      <td>NaN</td>\n",
       "      <td>NaN</td>\n",
       "    </tr>\n",
       "    <tr>\n",
       "      <th>ALTERED MENTAL STATUS</th>\n",
       "      <td>1.0</td>\n",
       "      <td>NaN</td>\n",
       "      <td>NaN</td>\n",
       "      <td>40.170834</td>\n",
       "      <td>NaN</td>\n",
       "      <td>NaN</td>\n",
       "      <td>-75.320302</td>\n",
       "      <td>NaN</td>\n",
       "      <td>NaN</td>\n",
       "      <td>19226.718462</td>\n",
       "      <td>NaN</td>\n",
       "      <td>NaN</td>\n",
       "    </tr>\n",
       "    <tr>\n",
       "      <th>AMPUTATION</th>\n",
       "      <td>1.0</td>\n",
       "      <td>NaN</td>\n",
       "      <td>NaN</td>\n",
       "      <td>40.161081</td>\n",
       "      <td>NaN</td>\n",
       "      <td>NaN</td>\n",
       "      <td>-75.370176</td>\n",
       "      <td>NaN</td>\n",
       "      <td>NaN</td>\n",
       "      <td>19311.666667</td>\n",
       "      <td>NaN</td>\n",
       "      <td>NaN</td>\n",
       "    </tr>\n",
       "    <tr>\n",
       "      <th>...</th>\n",
       "      <td>...</td>\n",
       "      <td>...</td>\n",
       "      <td>...</td>\n",
       "      <td>...</td>\n",
       "      <td>...</td>\n",
       "      <td>...</td>\n",
       "      <td>...</td>\n",
       "      <td>...</td>\n",
       "      <td>...</td>\n",
       "      <td>...</td>\n",
       "      <td>...</td>\n",
       "      <td>...</td>\n",
       "    </tr>\n",
       "    <tr>\n",
       "      <th>VEHICLE FIRE -</th>\n",
       "      <td>NaN</td>\n",
       "      <td>NaN</td>\n",
       "      <td>1.0</td>\n",
       "      <td>NaN</td>\n",
       "      <td>NaN</td>\n",
       "      <td>40.149842</td>\n",
       "      <td>NaN</td>\n",
       "      <td>NaN</td>\n",
       "      <td>-75.314076</td>\n",
       "      <td>NaN</td>\n",
       "      <td>NaN</td>\n",
       "      <td>19234.189840</td>\n",
       "    </tr>\n",
       "    <tr>\n",
       "      <th>VEHICLE LEAKING FUEL</th>\n",
       "      <td>NaN</td>\n",
       "      <td>1.0</td>\n",
       "      <td>NaN</td>\n",
       "      <td>NaN</td>\n",
       "      <td>40.157441</td>\n",
       "      <td>NaN</td>\n",
       "      <td>NaN</td>\n",
       "      <td>-75.331702</td>\n",
       "      <td>NaN</td>\n",
       "      <td>NaN</td>\n",
       "      <td>19339.160714</td>\n",
       "      <td>NaN</td>\n",
       "    </tr>\n",
       "    <tr>\n",
       "      <th>VEHICLE LEAKING FUEL -</th>\n",
       "      <td>NaN</td>\n",
       "      <td>NaN</td>\n",
       "      <td>1.0</td>\n",
       "      <td>NaN</td>\n",
       "      <td>NaN</td>\n",
       "      <td>40.166523</td>\n",
       "      <td>NaN</td>\n",
       "      <td>NaN</td>\n",
       "      <td>-75.357891</td>\n",
       "      <td>NaN</td>\n",
       "      <td>NaN</td>\n",
       "      <td>19351.262295</td>\n",
       "    </tr>\n",
       "    <tr>\n",
       "      <th>WARRANT SERVICE</th>\n",
       "      <td>1.0</td>\n",
       "      <td>NaN</td>\n",
       "      <td>NaN</td>\n",
       "      <td>40.204036</td>\n",
       "      <td>NaN</td>\n",
       "      <td>NaN</td>\n",
       "      <td>-75.430959</td>\n",
       "      <td>NaN</td>\n",
       "      <td>NaN</td>\n",
       "      <td>19249.000000</td>\n",
       "      <td>NaN</td>\n",
       "      <td>NaN</td>\n",
       "    </tr>\n",
       "    <tr>\n",
       "      <th>WOODS/FIELD FIRE</th>\n",
       "      <td>1.0</td>\n",
       "      <td>1.0</td>\n",
       "      <td>NaN</td>\n",
       "      <td>40.260074</td>\n",
       "      <td>40.160535</td>\n",
       "      <td>NaN</td>\n",
       "      <td>-75.490039</td>\n",
       "      <td>-75.332596</td>\n",
       "      <td>NaN</td>\n",
       "      <td>18749.500000</td>\n",
       "      <td>19221.135371</td>\n",
       "      <td>NaN</td>\n",
       "    </tr>\n",
       "  </tbody>\n",
       "</table>\n",
       "<p>81 rows × 12 columns</p>\n",
       "</div>"
      ],
      "text/plain": [
       "                        Dummy               Lattitude                        \\\n",
       "Reason                    EMS Fire Traffic        EMS       Fire    Traffic   \n",
       "Description                                                                   \n",
       " ABDOMINAL PAINS          1.0  NaN     NaN  40.172037        NaN        NaN   \n",
       " ACTIVE SHOOTER           1.0  NaN     NaN  40.218105        NaN        NaN   \n",
       " ALLERGIC REACTION        1.0  NaN     NaN  40.159446        NaN        NaN   \n",
       " ALTERED MENTAL STATUS    1.0  NaN     NaN  40.170834        NaN        NaN   \n",
       " AMPUTATION               1.0  NaN     NaN  40.161081        NaN        NaN   \n",
       "...                       ...  ...     ...        ...        ...        ...   \n",
       " VEHICLE FIRE -           NaN  NaN     1.0        NaN        NaN  40.149842   \n",
       " VEHICLE LEAKING FUEL     NaN  1.0     NaN        NaN  40.157441        NaN   \n",
       " VEHICLE LEAKING FUEL -   NaN  NaN     1.0        NaN        NaN  40.166523   \n",
       " WARRANT SERVICE          1.0  NaN     NaN  40.204036        NaN        NaN   \n",
       " WOODS/FIELD FIRE         1.0  1.0     NaN  40.260074  40.160535        NaN   \n",
       "\n",
       "                         Longitude                             Zipcode  \\\n",
       "Reason                         EMS       Fire    Traffic           EMS   \n",
       "Description                                                              \n",
       " ABDOMINAL PAINS        -75.341162        NaN        NaN  19256.606352   \n",
       " ACTIVE SHOOTER         -75.188401        NaN        NaN  19272.000000   \n",
       " ALLERGIC REACTION      -75.318172        NaN        NaN  19229.756098   \n",
       " ALTERED MENTAL STATUS  -75.320302        NaN        NaN  19226.718462   \n",
       " AMPUTATION             -75.370176        NaN        NaN  19311.666667   \n",
       "...                            ...        ...        ...           ...   \n",
       " VEHICLE FIRE -                NaN        NaN -75.314076           NaN   \n",
       " VEHICLE LEAKING FUEL          NaN -75.331702        NaN           NaN   \n",
       " VEHICLE LEAKING FUEL -        NaN        NaN -75.357891           NaN   \n",
       " WARRANT SERVICE        -75.430959        NaN        NaN  19249.000000   \n",
       " WOODS/FIELD FIRE       -75.490039 -75.332596        NaN  18749.500000   \n",
       "\n",
       "                                                     \n",
       "Reason                           Fire       Traffic  \n",
       "Description                                          \n",
       " ABDOMINAL PAINS                  NaN           NaN  \n",
       " ACTIVE SHOOTER                   NaN           NaN  \n",
       " ALLERGIC REACTION                NaN           NaN  \n",
       " ALTERED MENTAL STATUS            NaN           NaN  \n",
       " AMPUTATION                       NaN           NaN  \n",
       "...                               ...           ...  \n",
       " VEHICLE FIRE -                   NaN  19234.189840  \n",
       " VEHICLE LEAKING FUEL    19339.160714           NaN  \n",
       " VEHICLE LEAKING FUEL -           NaN  19351.262295  \n",
       " WARRANT SERVICE                  NaN           NaN  \n",
       " WOODS/FIELD FIRE        19221.135371           NaN  \n",
       "\n",
       "[81 rows x 12 columns]"
      ]
     },
     "execution_count": 257,
     "metadata": {},
     "output_type": "execute_result"
    }
   ],
   "source": [
    "pd.pivot_table(df, index = \"Description\", columns= \"Reason\")"
   ]
  },
  {
   "cell_type": "code",
   "execution_count": 258,
   "id": "1059934e",
   "metadata": {},
   "outputs": [
    {
     "data": {
      "text/html": [
       "<div>\n",
       "<style scoped>\n",
       "    .dataframe tbody tr th:only-of-type {\n",
       "        vertical-align: middle;\n",
       "    }\n",
       "\n",
       "    .dataframe tbody tr th {\n",
       "        vertical-align: top;\n",
       "    }\n",
       "\n",
       "    .dataframe thead th {\n",
       "        text-align: right;\n",
       "    }\n",
       "</style>\n",
       "<table border=\"1\" class=\"dataframe\">\n",
       "  <thead>\n",
       "    <tr style=\"text-align: right;\">\n",
       "      <th>Reason</th>\n",
       "      <th>EMS</th>\n",
       "      <th>Fire</th>\n",
       "      <th>Traffic</th>\n",
       "    </tr>\n",
       "    <tr>\n",
       "      <th>Description</th>\n",
       "      <th></th>\n",
       "      <th></th>\n",
       "      <th></th>\n",
       "    </tr>\n",
       "  </thead>\n",
       "  <tbody>\n",
       "    <tr>\n",
       "      <th>ABDOMINAL PAINS</th>\n",
       "      <td>1436.0</td>\n",
       "      <td>NaN</td>\n",
       "      <td>NaN</td>\n",
       "    </tr>\n",
       "    <tr>\n",
       "      <th>ACTIVE SHOOTER</th>\n",
       "      <td>2.0</td>\n",
       "      <td>NaN</td>\n",
       "      <td>NaN</td>\n",
       "    </tr>\n",
       "    <tr>\n",
       "      <th>ALLERGIC REACTION</th>\n",
       "      <td>438.0</td>\n",
       "      <td>NaN</td>\n",
       "      <td>NaN</td>\n",
       "    </tr>\n",
       "    <tr>\n",
       "      <th>ALTERED MENTAL STATUS</th>\n",
       "      <td>1386.0</td>\n",
       "      <td>NaN</td>\n",
       "      <td>NaN</td>\n",
       "    </tr>\n",
       "    <tr>\n",
       "      <th>AMPUTATION</th>\n",
       "      <td>14.0</td>\n",
       "      <td>NaN</td>\n",
       "      <td>NaN</td>\n",
       "    </tr>\n",
       "    <tr>\n",
       "      <th>...</th>\n",
       "      <td>...</td>\n",
       "      <td>...</td>\n",
       "      <td>...</td>\n",
       "    </tr>\n",
       "    <tr>\n",
       "      <th>VEHICLE FIRE -</th>\n",
       "      <td>NaN</td>\n",
       "      <td>NaN</td>\n",
       "      <td>553.0</td>\n",
       "    </tr>\n",
       "    <tr>\n",
       "      <th>VEHICLE LEAKING FUEL</th>\n",
       "      <td>NaN</td>\n",
       "      <td>73.0</td>\n",
       "      <td>NaN</td>\n",
       "    </tr>\n",
       "    <tr>\n",
       "      <th>VEHICLE LEAKING FUEL -</th>\n",
       "      <td>NaN</td>\n",
       "      <td>NaN</td>\n",
       "      <td>77.0</td>\n",
       "    </tr>\n",
       "    <tr>\n",
       "      <th>WARRANT SERVICE</th>\n",
       "      <td>2.0</td>\n",
       "      <td>NaN</td>\n",
       "      <td>NaN</td>\n",
       "    </tr>\n",
       "    <tr>\n",
       "      <th>WOODS/FIELD FIRE</th>\n",
       "      <td>7.0</td>\n",
       "      <td>514.0</td>\n",
       "      <td>NaN</td>\n",
       "    </tr>\n",
       "  </tbody>\n",
       "</table>\n",
       "<p>81 rows × 3 columns</p>\n",
       "</div>"
      ],
      "text/plain": [
       "Reason                      EMS   Fire  Traffic\n",
       "Description                                    \n",
       " ABDOMINAL PAINS         1436.0    NaN      NaN\n",
       " ACTIVE SHOOTER             2.0    NaN      NaN\n",
       " ALLERGIC REACTION        438.0    NaN      NaN\n",
       " ALTERED MENTAL STATUS   1386.0    NaN      NaN\n",
       " AMPUTATION                14.0    NaN      NaN\n",
       "...                         ...    ...      ...\n",
       " VEHICLE FIRE -             NaN    NaN    553.0\n",
       " VEHICLE LEAKING FUEL       NaN   73.0      NaN\n",
       " VEHICLE LEAKING FUEL -     NaN    NaN     77.0\n",
       " WARRANT SERVICE            2.0    NaN      NaN\n",
       " WOODS/FIELD FIRE           7.0  514.0      NaN\n",
       "\n",
       "[81 rows x 3 columns]"
      ]
     },
     "execution_count": 258,
     "metadata": {},
     "output_type": "execute_result"
    }
   ],
   "source": [
    "df.groupby(by = [\"Description\",\"Reason\"]).count().unstack(level = 1)[\"Lattitude\"]"
   ]
  },
  {
   "cell_type": "code",
   "execution_count": 44,
   "id": "129aa0e4",
   "metadata": {},
   "outputs": [
    {
     "data": {
      "text/html": [
       "<div>\n",
       "<style scoped>\n",
       "    .dataframe tbody tr th:only-of-type {\n",
       "        vertical-align: middle;\n",
       "    }\n",
       "\n",
       "    .dataframe tbody tr th {\n",
       "        vertical-align: top;\n",
       "    }\n",
       "\n",
       "    .dataframe thead th {\n",
       "        text-align: right;\n",
       "    }\n",
       "</style>\n",
       "<table border=\"1\" class=\"dataframe\">\n",
       "  <thead>\n",
       "    <tr style=\"text-align: right;\">\n",
       "      <th>Reason</th>\n",
       "      <th>EMS</th>\n",
       "      <th>Fire</th>\n",
       "      <th>Traffic</th>\n",
       "      <th>All</th>\n",
       "    </tr>\n",
       "    <tr>\n",
       "      <th>Description</th>\n",
       "      <th></th>\n",
       "      <th></th>\n",
       "      <th></th>\n",
       "      <th></th>\n",
       "    </tr>\n",
       "  </thead>\n",
       "  <tbody>\n",
       "    <tr>\n",
       "      <th>ABDOMINAL PAINS</th>\n",
       "      <td>1436.0</td>\n",
       "      <td>NaN</td>\n",
       "      <td>NaN</td>\n",
       "      <td>1436</td>\n",
       "    </tr>\n",
       "    <tr>\n",
       "      <th>ACTIVE SHOOTER</th>\n",
       "      <td>2.0</td>\n",
       "      <td>NaN</td>\n",
       "      <td>NaN</td>\n",
       "      <td>2</td>\n",
       "    </tr>\n",
       "    <tr>\n",
       "      <th>ALLERGIC REACTION</th>\n",
       "      <td>438.0</td>\n",
       "      <td>NaN</td>\n",
       "      <td>NaN</td>\n",
       "      <td>438</td>\n",
       "    </tr>\n",
       "    <tr>\n",
       "      <th>ALTERED MENTAL STATUS</th>\n",
       "      <td>1386.0</td>\n",
       "      <td>NaN</td>\n",
       "      <td>NaN</td>\n",
       "      <td>1386</td>\n",
       "    </tr>\n",
       "    <tr>\n",
       "      <th>AMPUTATION</th>\n",
       "      <td>14.0</td>\n",
       "      <td>NaN</td>\n",
       "      <td>NaN</td>\n",
       "      <td>14</td>\n",
       "    </tr>\n",
       "    <tr>\n",
       "      <th>...</th>\n",
       "      <td>...</td>\n",
       "      <td>...</td>\n",
       "      <td>...</td>\n",
       "      <td>...</td>\n",
       "    </tr>\n",
       "    <tr>\n",
       "      <th>VEHICLE LEAKING FUEL</th>\n",
       "      <td>NaN</td>\n",
       "      <td>73.0</td>\n",
       "      <td>NaN</td>\n",
       "      <td>73</td>\n",
       "    </tr>\n",
       "    <tr>\n",
       "      <th>VEHICLE LEAKING FUEL -</th>\n",
       "      <td>NaN</td>\n",
       "      <td>NaN</td>\n",
       "      <td>77.0</td>\n",
       "      <td>77</td>\n",
       "    </tr>\n",
       "    <tr>\n",
       "      <th>WARRANT SERVICE</th>\n",
       "      <td>2.0</td>\n",
       "      <td>NaN</td>\n",
       "      <td>NaN</td>\n",
       "      <td>2</td>\n",
       "    </tr>\n",
       "    <tr>\n",
       "      <th>WOODS/FIELD FIRE</th>\n",
       "      <td>7.0</td>\n",
       "      <td>514.0</td>\n",
       "      <td>NaN</td>\n",
       "      <td>521</td>\n",
       "    </tr>\n",
       "    <tr>\n",
       "      <th>All</th>\n",
       "      <td>48877.0</td>\n",
       "      <td>14920.0</td>\n",
       "      <td>35695.0</td>\n",
       "      <td>99492</td>\n",
       "    </tr>\n",
       "  </tbody>\n",
       "</table>\n",
       "<p>82 rows × 4 columns</p>\n",
       "</div>"
      ],
      "text/plain": [
       "Reason                       EMS     Fire  Traffic    All\n",
       "Description                                              \n",
       " ABDOMINAL PAINS          1436.0      NaN      NaN   1436\n",
       " ACTIVE SHOOTER              2.0      NaN      NaN      2\n",
       " ALLERGIC REACTION         438.0      NaN      NaN    438\n",
       " ALTERED MENTAL STATUS    1386.0      NaN      NaN   1386\n",
       " AMPUTATION                 14.0      NaN      NaN     14\n",
       "...                          ...      ...      ...    ...\n",
       " VEHICLE LEAKING FUEL        NaN     73.0      NaN     73\n",
       " VEHICLE LEAKING FUEL -      NaN      NaN     77.0     77\n",
       " WARRANT SERVICE             2.0      NaN      NaN      2\n",
       " WOODS/FIELD FIRE            7.0    514.0      NaN    521\n",
       "All                      48877.0  14920.0  35695.0  99492\n",
       "\n",
       "[82 rows x 4 columns]"
      ]
     },
     "execution_count": 44,
     "metadata": {},
     "output_type": "execute_result"
    }
   ],
   "source": [
    "pd.pivot_table(df, index = \"Description\", columns= \"Reason\", values = 'e', aggfunc = sum, margins= True)"
   ]
  },
  {
   "cell_type": "markdown",
   "id": "f228405a",
   "metadata": {},
   "source": [
    "#### Let's now investigate the timeStamp"
   ]
  },
  {
   "cell_type": "code",
   "execution_count": 264,
   "id": "b019fd07",
   "metadata": {},
   "outputs": [
    {
     "data": {
      "text/plain": [
       "0    2015-12-10 17:40:00\n",
       "1    2015-12-10 17:40:00\n",
       "2    2015-12-10 17:40:00\n",
       "3    2015-12-10 17:40:01\n",
       "4    2015-12-10 17:40:01\n",
       "Name: TimeStamp, dtype: object"
      ]
     },
     "execution_count": 264,
     "metadata": {},
     "output_type": "execute_result"
    }
   ],
   "source": [
    "df['TimeStamp'].head()"
   ]
  },
  {
   "cell_type": "code",
   "execution_count": 263,
   "id": "8a0266bd",
   "metadata": {},
   "outputs": [
    {
     "data": {
      "text/plain": [
       "str"
      ]
     },
     "execution_count": 263,
     "metadata": {},
     "output_type": "execute_result"
    }
   ],
   "source": [
    "type(df['TimeStamp'][0])"
   ]
  },
  {
   "cell_type": "markdown",
   "id": "fe457120",
   "metadata": {},
   "source": [
    "TimeStamp is of type String. Let's make it a DateTime field"
   ]
  },
  {
   "cell_type": "code",
   "execution_count": 266,
   "id": "9d3dfcfd",
   "metadata": {},
   "outputs": [],
   "source": [
    "df[\"TimeStamp\"] = pd.to_datetime(df[\"TimeStamp\"]) #to_datetime convert the string into a datetime: yyyy-mm-dd hh:mm:ss"
   ]
  },
  {
   "cell_type": "code",
   "execution_count": 267,
   "id": "b5ba4b24",
   "metadata": {},
   "outputs": [
    {
     "data": {
      "text/plain": [
       "pandas._libs.tslibs.timestamps.Timestamp"
      ]
     },
     "execution_count": 267,
     "metadata": {},
     "output_type": "execute_result"
    }
   ],
   "source": [
    "type(df['TimeStamp'][0])"
   ]
  },
  {
   "cell_type": "code",
   "execution_count": 269,
   "id": "771f7f2f",
   "metadata": {},
   "outputs": [
    {
     "data": {
      "text/plain": [
       "Timestamp('2015-12-10 17:40:00')"
      ]
     },
     "execution_count": 269,
     "metadata": {},
     "output_type": "execute_result"
    }
   ],
   "source": [
    "df['TimeStamp'][0]"
   ]
  },
  {
   "cell_type": "markdown",
   "id": "a2ed027d",
   "metadata": {},
   "source": [
    "Let's create a column for the Month, Hour and Day of the Week of the TimeStamp"
   ]
  },
  {
   "cell_type": "code",
   "execution_count": 271,
   "id": "8397a651",
   "metadata": {},
   "outputs": [],
   "source": [
    "df[\"Month\"] = df[\"TimeStamp\"].apply(lambda time: time.month)"
   ]
  },
  {
   "cell_type": "code",
   "execution_count": 273,
   "id": "2f2f5e41",
   "metadata": {},
   "outputs": [],
   "source": [
    "df[\"Day of Week\"] = df[\"TimeStamp\"].apply(lambda time: time.dayofweek)\n",
    "df[\"hour\"] = df[\"TimeStamp\"].apply(lambda time: time.hour)"
   ]
  },
  {
   "cell_type": "code",
   "execution_count": 274,
   "id": "be3af1ee",
   "metadata": {},
   "outputs": [
    {
     "data": {
      "text/html": [
       "<div>\n",
       "<style scoped>\n",
       "    .dataframe tbody tr th:only-of-type {\n",
       "        vertical-align: middle;\n",
       "    }\n",
       "\n",
       "    .dataframe tbody tr th {\n",
       "        vertical-align: top;\n",
       "    }\n",
       "\n",
       "    .dataframe thead th {\n",
       "        text-align: right;\n",
       "    }\n",
       "</style>\n",
       "<table border=\"1\" class=\"dataframe\">\n",
       "  <thead>\n",
       "    <tr style=\"text-align: right;\">\n",
       "      <th></th>\n",
       "      <th>Lattitude</th>\n",
       "      <th>Longitude</th>\n",
       "      <th>desc</th>\n",
       "      <th>Zipcode</th>\n",
       "      <th>Title</th>\n",
       "      <th>TimeStamp</th>\n",
       "      <th>Township</th>\n",
       "      <th>Address</th>\n",
       "      <th>Dummy</th>\n",
       "      <th>Reason</th>\n",
       "      <th>Description</th>\n",
       "      <th>Month</th>\n",
       "      <th>Day of Week</th>\n",
       "      <th>hour</th>\n",
       "    </tr>\n",
       "  </thead>\n",
       "  <tbody>\n",
       "    <tr>\n",
       "      <th>0</th>\n",
       "      <td>40.297876</td>\n",
       "      <td>-75.581294</td>\n",
       "      <td>REINDEER CT &amp; DEAD END;  NEW HANOVER; Station ...</td>\n",
       "      <td>19525.0</td>\n",
       "      <td>EMS: BACK PAINS/INJURY</td>\n",
       "      <td>2015-12-10 17:40:00</td>\n",
       "      <td>NEW HANOVER</td>\n",
       "      <td>REINDEER CT &amp; DEAD END</td>\n",
       "      <td>1</td>\n",
       "      <td>EMS</td>\n",
       "      <td>BACK PAINS/INJURY</td>\n",
       "      <td>12</td>\n",
       "      <td>3</td>\n",
       "      <td>17</td>\n",
       "    </tr>\n",
       "    <tr>\n",
       "      <th>1</th>\n",
       "      <td>40.258061</td>\n",
       "      <td>-75.264680</td>\n",
       "      <td>BRIAR PATH &amp; WHITEMARSH LN;  HATFIELD TOWNSHIP...</td>\n",
       "      <td>19446.0</td>\n",
       "      <td>EMS: DIABETIC EMERGENCY</td>\n",
       "      <td>2015-12-10 17:40:00</td>\n",
       "      <td>HATFIELD TOWNSHIP</td>\n",
       "      <td>BRIAR PATH &amp; WHITEMARSH LN</td>\n",
       "      <td>1</td>\n",
       "      <td>EMS</td>\n",
       "      <td>DIABETIC EMERGENCY</td>\n",
       "      <td>12</td>\n",
       "      <td>3</td>\n",
       "      <td>17</td>\n",
       "    </tr>\n",
       "    <tr>\n",
       "      <th>2</th>\n",
       "      <td>40.121182</td>\n",
       "      <td>-75.351975</td>\n",
       "      <td>HAWS AVE; NORRISTOWN; 2015-12-10 @ 14:39:21-St...</td>\n",
       "      <td>19401.0</td>\n",
       "      <td>Fire: GAS-ODOR/LEAK</td>\n",
       "      <td>2015-12-10 17:40:00</td>\n",
       "      <td>NORRISTOWN</td>\n",
       "      <td>HAWS AVE</td>\n",
       "      <td>1</td>\n",
       "      <td>Fire</td>\n",
       "      <td>GAS-ODOR/LEAK</td>\n",
       "      <td>12</td>\n",
       "      <td>3</td>\n",
       "      <td>17</td>\n",
       "    </tr>\n",
       "    <tr>\n",
       "      <th>3</th>\n",
       "      <td>40.116153</td>\n",
       "      <td>-75.343513</td>\n",
       "      <td>AIRY ST &amp; SWEDE ST;  NORRISTOWN; Station 308A;...</td>\n",
       "      <td>19401.0</td>\n",
       "      <td>EMS: CARDIAC EMERGENCY</td>\n",
       "      <td>2015-12-10 17:40:01</td>\n",
       "      <td>NORRISTOWN</td>\n",
       "      <td>AIRY ST &amp; SWEDE ST</td>\n",
       "      <td>1</td>\n",
       "      <td>EMS</td>\n",
       "      <td>CARDIAC EMERGENCY</td>\n",
       "      <td>12</td>\n",
       "      <td>3</td>\n",
       "      <td>17</td>\n",
       "    </tr>\n",
       "    <tr>\n",
       "      <th>4</th>\n",
       "      <td>40.251492</td>\n",
       "      <td>-75.603350</td>\n",
       "      <td>CHERRYWOOD CT &amp; DEAD END;  LOWER POTTSGROVE; S...</td>\n",
       "      <td>NaN</td>\n",
       "      <td>EMS: DIZZINESS</td>\n",
       "      <td>2015-12-10 17:40:01</td>\n",
       "      <td>LOWER POTTSGROVE</td>\n",
       "      <td>CHERRYWOOD CT &amp; DEAD END</td>\n",
       "      <td>1</td>\n",
       "      <td>EMS</td>\n",
       "      <td>DIZZINESS</td>\n",
       "      <td>12</td>\n",
       "      <td>3</td>\n",
       "      <td>17</td>\n",
       "    </tr>\n",
       "  </tbody>\n",
       "</table>\n",
       "</div>"
      ],
      "text/plain": [
       "   Lattitude  Longitude                                               desc  \\\n",
       "0  40.297876 -75.581294  REINDEER CT & DEAD END;  NEW HANOVER; Station ...   \n",
       "1  40.258061 -75.264680  BRIAR PATH & WHITEMARSH LN;  HATFIELD TOWNSHIP...   \n",
       "2  40.121182 -75.351975  HAWS AVE; NORRISTOWN; 2015-12-10 @ 14:39:21-St...   \n",
       "3  40.116153 -75.343513  AIRY ST & SWEDE ST;  NORRISTOWN; Station 308A;...   \n",
       "4  40.251492 -75.603350  CHERRYWOOD CT & DEAD END;  LOWER POTTSGROVE; S...   \n",
       "\n",
       "   Zipcode                    Title           TimeStamp           Township  \\\n",
       "0  19525.0   EMS: BACK PAINS/INJURY 2015-12-10 17:40:00        NEW HANOVER   \n",
       "1  19446.0  EMS: DIABETIC EMERGENCY 2015-12-10 17:40:00  HATFIELD TOWNSHIP   \n",
       "2  19401.0      Fire: GAS-ODOR/LEAK 2015-12-10 17:40:00         NORRISTOWN   \n",
       "3  19401.0   EMS: CARDIAC EMERGENCY 2015-12-10 17:40:01         NORRISTOWN   \n",
       "4      NaN           EMS: DIZZINESS 2015-12-10 17:40:01   LOWER POTTSGROVE   \n",
       "\n",
       "                      Address  Dummy Reason          Description  Month  \\\n",
       "0      REINDEER CT & DEAD END      1    EMS    BACK PAINS/INJURY     12   \n",
       "1  BRIAR PATH & WHITEMARSH LN      1    EMS   DIABETIC EMERGENCY     12   \n",
       "2                    HAWS AVE      1   Fire        GAS-ODOR/LEAK     12   \n",
       "3          AIRY ST & SWEDE ST      1    EMS    CARDIAC EMERGENCY     12   \n",
       "4    CHERRYWOOD CT & DEAD END      1    EMS            DIZZINESS     12   \n",
       "\n",
       "   Day of Week  hour  \n",
       "0            3    17  \n",
       "1            3    17  \n",
       "2            3    17  \n",
       "3            3    17  \n",
       "4            3    17  "
      ]
     },
     "execution_count": 274,
     "metadata": {},
     "output_type": "execute_result"
    }
   ],
   "source": [
    "df.head()"
   ]
  },
  {
   "cell_type": "markdown",
   "id": "92889590",
   "metadata": {},
   "source": [
    "dmap is a dictionnary that contains the days of the week. We will will use it to \n",
    "convert the Day of Week column into notation we're all familiar with"
   ]
  },
  {
   "cell_type": "code",
   "execution_count": 275,
   "id": "ae0e0eaf",
   "metadata": {},
   "outputs": [],
   "source": [
    "dmap = {0:'Mon',1:'Tue',2:'Wed',3:'Thu',4:'Fri',5:'Sat',6:'Sun'}"
   ]
  },
  {
   "cell_type": "code",
   "execution_count": 276,
   "id": "75a374ef",
   "metadata": {},
   "outputs": [],
   "source": [
    "df[\"Day of Week\"] = df[\"Day of Week\"].map(dmap)"
   ]
  },
  {
   "cell_type": "markdown",
   "id": "13d614f8",
   "metadata": {},
   "source": [
    "#### Visual respresentation of the number of 911 calls by Month"
   ]
  },
  {
   "cell_type": "code",
   "execution_count": 280,
   "id": "ba19b0a9",
   "metadata": {},
   "outputs": [
    {
     "data": {
      "text/plain": [
       "<AxesSubplot:xlabel='Month', ylabel='count'>"
      ]
     },
     "execution_count": 280,
     "metadata": {},
     "output_type": "execute_result"
    },
    {
     "data": {
      "image/png": "[encoded data removed]",
      "text/plain": [
       "<Figure size 432x288 with 1 Axes>"
      ]
     },
     "metadata": {
      "needs_background": "light"
     },
     "output_type": "display_data"
    }
   ],
   "source": [
    "#Plot of call by Months\n",
    "sns.countplot(x = \"Month\", data = df)"
   ]
  },
  {
   "cell_type": "markdown",
   "id": "03bd64e7",
   "metadata": {},
   "source": [
    "Noticed a significant drop of calls during the month of August, and \n",
    "we have no data for the months of September, October and November"
   ]
  },
  {
   "cell_type": "markdown",
   "id": "f102a0b6",
   "metadata": {},
   "source": [
    "Drill down by the Reason: hue = \"Reason\""
   ]
  },
  {
   "cell_type": "code",
   "execution_count": 283,
   "id": "56ea4494",
   "metadata": {},
   "outputs": [
    {
     "data": {
      "text/plain": [
       "<matplotlib.legend.Legend at 0x7fb13794e400>"
      ]
     },
     "execution_count": 283,
     "metadata": {},
     "output_type": "execute_result"
    },
    {
     "data": {
      "image/png": "[encoded data removed]",
      "text/plain": [
       "<Figure size 432x288 with 1 Axes>"
      ]
     },
     "metadata": {
      "needs_background": "light"
     },
     "output_type": "display_data"
    }
   ],
   "source": [
    "sns.countplot(x = \"Month\", data = df, hue = \"Reason\")\n",
    "plt.legend(bbox_to_anchor = (1,1),loc = 2)"
   ]
  },
  {
   "cell_type": "code",
   "execution_count": null,
   "id": "b3fb6263",
   "metadata": {},
   "outputs": [],
   "source": [
    "#"
   ]
  },
  {
   "cell_type": "code",
   "execution_count": null,
   "id": "545da2ed",
   "metadata": {},
   "outputs": [],
   "source": []
  },
  {
   "cell_type": "code",
   "execution_count": 106,
   "id": "7b336e1d",
   "metadata": {},
   "outputs": [
    {
     "data": {
      "text/html": [
       "<div>\n",
       "<style scoped>\n",
       "    .dataframe tbody tr th:only-of-type {\n",
       "        vertical-align: middle;\n",
       "    }\n",
       "\n",
       "    .dataframe tbody tr th {\n",
       "        vertical-align: top;\n",
       "    }\n",
       "\n",
       "    .dataframe thead th {\n",
       "        text-align: right;\n",
       "    }\n",
       "</style>\n",
       "<table border=\"1\" class=\"dataframe\">\n",
       "  <thead>\n",
       "    <tr style=\"text-align: right;\">\n",
       "      <th></th>\n",
       "      <th>lat</th>\n",
       "      <th>lng</th>\n",
       "      <th>desc</th>\n",
       "      <th>zip</th>\n",
       "      <th>title</th>\n",
       "      <th>timeStamp</th>\n",
       "      <th>twp</th>\n",
       "      <th>addr</th>\n",
       "      <th>e</th>\n",
       "      <th>Reason</th>\n",
       "      <th>Description</th>\n",
       "      <th>Day of Week</th>\n",
       "      <th>hour</th>\n",
       "    </tr>\n",
       "    <tr>\n",
       "      <th>Month</th>\n",
       "      <th></th>\n",
       "      <th></th>\n",
       "      <th></th>\n",
       "      <th></th>\n",
       "      <th></th>\n",
       "      <th></th>\n",
       "      <th></th>\n",
       "      <th></th>\n",
       "      <th></th>\n",
       "      <th></th>\n",
       "      <th></th>\n",
       "      <th></th>\n",
       "      <th></th>\n",
       "    </tr>\n",
       "  </thead>\n",
       "  <tbody>\n",
       "    <tr>\n",
       "      <th>1</th>\n",
       "      <td>13205</td>\n",
       "      <td>13205</td>\n",
       "      <td>13205</td>\n",
       "      <td>11527</td>\n",
       "      <td>13205</td>\n",
       "      <td>13205</td>\n",
       "      <td>13203</td>\n",
       "      <td>13096</td>\n",
       "      <td>13205</td>\n",
       "      <td>13205</td>\n",
       "      <td>13205</td>\n",
       "      <td>13205</td>\n",
       "      <td>13205</td>\n",
       "    </tr>\n",
       "    <tr>\n",
       "      <th>2</th>\n",
       "      <td>11467</td>\n",
       "      <td>11467</td>\n",
       "      <td>11467</td>\n",
       "      <td>9930</td>\n",
       "      <td>11467</td>\n",
       "      <td>11467</td>\n",
       "      <td>11465</td>\n",
       "      <td>11396</td>\n",
       "      <td>11467</td>\n",
       "      <td>11467</td>\n",
       "      <td>11467</td>\n",
       "      <td>11467</td>\n",
       "      <td>11467</td>\n",
       "    </tr>\n",
       "    <tr>\n",
       "      <th>3</th>\n",
       "      <td>11101</td>\n",
       "      <td>11101</td>\n",
       "      <td>11101</td>\n",
       "      <td>9755</td>\n",
       "      <td>11101</td>\n",
       "      <td>11101</td>\n",
       "      <td>11092</td>\n",
       "      <td>11059</td>\n",
       "      <td>11101</td>\n",
       "      <td>11101</td>\n",
       "      <td>11101</td>\n",
       "      <td>11101</td>\n",
       "      <td>11101</td>\n",
       "    </tr>\n",
       "    <tr>\n",
       "      <th>4</th>\n",
       "      <td>11326</td>\n",
       "      <td>11326</td>\n",
       "      <td>11326</td>\n",
       "      <td>9895</td>\n",
       "      <td>11326</td>\n",
       "      <td>11326</td>\n",
       "      <td>11323</td>\n",
       "      <td>11283</td>\n",
       "      <td>11326</td>\n",
       "      <td>11326</td>\n",
       "      <td>11326</td>\n",
       "      <td>11326</td>\n",
       "      <td>11326</td>\n",
       "    </tr>\n",
       "    <tr>\n",
       "      <th>5</th>\n",
       "      <td>11423</td>\n",
       "      <td>11423</td>\n",
       "      <td>11423</td>\n",
       "      <td>9946</td>\n",
       "      <td>11423</td>\n",
       "      <td>11423</td>\n",
       "      <td>11420</td>\n",
       "      <td>11378</td>\n",
       "      <td>11423</td>\n",
       "      <td>11423</td>\n",
       "      <td>11423</td>\n",
       "      <td>11423</td>\n",
       "      <td>11423</td>\n",
       "    </tr>\n",
       "    <tr>\n",
       "      <th>6</th>\n",
       "      <td>11786</td>\n",
       "      <td>11786</td>\n",
       "      <td>11786</td>\n",
       "      <td>10212</td>\n",
       "      <td>11786</td>\n",
       "      <td>11786</td>\n",
       "      <td>11777</td>\n",
       "      <td>11732</td>\n",
       "      <td>11786</td>\n",
       "      <td>11786</td>\n",
       "      <td>11786</td>\n",
       "      <td>11786</td>\n",
       "      <td>11786</td>\n",
       "    </tr>\n",
       "    <tr>\n",
       "      <th>7</th>\n",
       "      <td>12137</td>\n",
       "      <td>12137</td>\n",
       "      <td>12137</td>\n",
       "      <td>10633</td>\n",
       "      <td>12137</td>\n",
       "      <td>12137</td>\n",
       "      <td>12133</td>\n",
       "      <td>12088</td>\n",
       "      <td>12137</td>\n",
       "      <td>12137</td>\n",
       "      <td>12137</td>\n",
       "      <td>12137</td>\n",
       "      <td>12137</td>\n",
       "    </tr>\n",
       "    <tr>\n",
       "      <th>8</th>\n",
       "      <td>9078</td>\n",
       "      <td>9078</td>\n",
       "      <td>9078</td>\n",
       "      <td>7832</td>\n",
       "      <td>9078</td>\n",
       "      <td>9078</td>\n",
       "      <td>9073</td>\n",
       "      <td>9025</td>\n",
       "      <td>9078</td>\n",
       "      <td>9078</td>\n",
       "      <td>9078</td>\n",
       "      <td>9078</td>\n",
       "      <td>9078</td>\n",
       "    </tr>\n",
       "    <tr>\n",
       "      <th>12</th>\n",
       "      <td>7969</td>\n",
       "      <td>7969</td>\n",
       "      <td>7969</td>\n",
       "      <td>6907</td>\n",
       "      <td>7969</td>\n",
       "      <td>7969</td>\n",
       "      <td>7963</td>\n",
       "      <td>7916</td>\n",
       "      <td>7969</td>\n",
       "      <td>7969</td>\n",
       "      <td>7969</td>\n",
       "      <td>7969</td>\n",
       "      <td>7969</td>\n",
       "    </tr>\n",
       "  </tbody>\n",
       "</table>\n",
       "</div>"
      ],
      "text/plain": [
       "         lat    lng   desc    zip  title  timeStamp    twp   addr      e  \\\n",
       "Month                                                                      \n",
       "1      13205  13205  13205  11527  13205      13205  13203  13096  13205   \n",
       "2      11467  11467  11467   9930  11467      11467  11465  11396  11467   \n",
       "3      11101  11101  11101   9755  11101      11101  11092  11059  11101   \n",
       "4      11326  11326  11326   9895  11326      11326  11323  11283  11326   \n",
       "5      11423  11423  11423   9946  11423      11423  11420  11378  11423   \n",
       "6      11786  11786  11786  10212  11786      11786  11777  11732  11786   \n",
       "7      12137  12137  12137  10633  12137      12137  12133  12088  12137   \n",
       "8       9078   9078   9078   7832   9078       9078   9073   9025   9078   \n",
       "12      7969   7969   7969   6907   7969       7969   7963   7916   7969   \n",
       "\n",
       "       Reason  Description  Day of Week   hour  \n",
       "Month                                           \n",
       "1       13205        13205        13205  13205  \n",
       "2       11467        11467        11467  11467  \n",
       "3       11101        11101        11101  11101  \n",
       "4       11326        11326        11326  11326  \n",
       "5       11423        11423        11423  11423  \n",
       "6       11786        11786        11786  11786  \n",
       "7       12137        12137        12137  12137  \n",
       "8        9078         9078         9078   9078  \n",
       "12       7969         7969         7969   7969  "
      ]
     },
     "execution_count": 106,
     "metadata": {},
     "output_type": "execute_result"
    }
   ],
   "source": [
    "#Grouping by Month\n",
    "byMonth = df.groupby(\"Month\").count()\n",
    "byMonth"
   ]
  },
  {
   "cell_type": "code",
   "execution_count": 103,
   "id": "54ddbd6b",
   "metadata": {},
   "outputs": [
    {
     "data": {
      "text/plain": [
       "<AxesSubplot:xlabel='Month'>"
      ]
     },
     "execution_count": 103,
     "metadata": {},
     "output_type": "execute_result"
    },
    {
     "data": {
      "image/png": "[encoded data removed]",
      "text/plain": [
       "<Figure size 432x288 with 1 Axes>"
      ]
     },
     "metadata": {
      "needs_background": "light"
     },
     "output_type": "display_data"
    }
   ],
   "source": [
    "byMonth['lat'].plot()"
   ]
  },
  {
   "cell_type": "code",
   "execution_count": null,
   "id": "cdcbaf8f",
   "metadata": {},
   "outputs": [],
   "source": []
  },
  {
   "cell_type": "code",
   "execution_count": 60,
   "id": "e0703366",
   "metadata": {},
   "outputs": [
    {
     "data": {
      "text/html": [
       "<div>\n",
       "<style scoped>\n",
       "    .dataframe tbody tr th:only-of-type {\n",
       "        vertical-align: middle;\n",
       "    }\n",
       "\n",
       "    .dataframe tbody tr th {\n",
       "        vertical-align: top;\n",
       "    }\n",
       "\n",
       "    .dataframe thead th {\n",
       "        text-align: right;\n",
       "    }\n",
       "</style>\n",
       "<table border=\"1\" class=\"dataframe\">\n",
       "  <thead>\n",
       "    <tr style=\"text-align: right;\">\n",
       "      <th></th>\n",
       "      <th>lat</th>\n",
       "      <th>lng</th>\n",
       "      <th>desc</th>\n",
       "      <th>zip</th>\n",
       "      <th>title</th>\n",
       "      <th>timeStamp</th>\n",
       "      <th>twp</th>\n",
       "      <th>addr</th>\n",
       "      <th>e</th>\n",
       "      <th>Reason</th>\n",
       "      <th>Description</th>\n",
       "      <th>Day of Week</th>\n",
       "      <th>hour</th>\n",
       "    </tr>\n",
       "    <tr>\n",
       "      <th>Month</th>\n",
       "      <th></th>\n",
       "      <th></th>\n",
       "      <th></th>\n",
       "      <th></th>\n",
       "      <th></th>\n",
       "      <th></th>\n",
       "      <th></th>\n",
       "      <th></th>\n",
       "      <th></th>\n",
       "      <th></th>\n",
       "      <th></th>\n",
       "      <th></th>\n",
       "      <th></th>\n",
       "    </tr>\n",
       "  </thead>\n",
       "  <tbody>\n",
       "    <tr>\n",
       "      <th>1</th>\n",
       "      <td>6063</td>\n",
       "      <td>6063</td>\n",
       "      <td>6063</td>\n",
       "      <td>5545</td>\n",
       "      <td>6063</td>\n",
       "      <td>6063</td>\n",
       "      <td>6061</td>\n",
       "      <td>6063</td>\n",
       "      <td>6063</td>\n",
       "      <td>6063</td>\n",
       "      <td>6063</td>\n",
       "      <td>0</td>\n",
       "      <td>6063</td>\n",
       "    </tr>\n",
       "    <tr>\n",
       "      <th>2</th>\n",
       "      <td>5413</td>\n",
       "      <td>5413</td>\n",
       "      <td>5413</td>\n",
       "      <td>4890</td>\n",
       "      <td>5413</td>\n",
       "      <td>5413</td>\n",
       "      <td>5412</td>\n",
       "      <td>5413</td>\n",
       "      <td>5413</td>\n",
       "      <td>5413</td>\n",
       "      <td>5413</td>\n",
       "      <td>0</td>\n",
       "      <td>5413</td>\n",
       "    </tr>\n",
       "    <tr>\n",
       "      <th>3</th>\n",
       "      <td>5832</td>\n",
       "      <td>5832</td>\n",
       "      <td>5832</td>\n",
       "      <td>5295</td>\n",
       "      <td>5832</td>\n",
       "      <td>5832</td>\n",
       "      <td>5825</td>\n",
       "      <td>5832</td>\n",
       "      <td>5832</td>\n",
       "      <td>5832</td>\n",
       "      <td>5832</td>\n",
       "      <td>0</td>\n",
       "      <td>5832</td>\n",
       "    </tr>\n",
       "    <tr>\n",
       "      <th>4</th>\n",
       "      <td>5680</td>\n",
       "      <td>5680</td>\n",
       "      <td>5680</td>\n",
       "      <td>5146</td>\n",
       "      <td>5680</td>\n",
       "      <td>5680</td>\n",
       "      <td>5678</td>\n",
       "      <td>5680</td>\n",
       "      <td>5680</td>\n",
       "      <td>5680</td>\n",
       "      <td>5680</td>\n",
       "      <td>0</td>\n",
       "      <td>5680</td>\n",
       "    </tr>\n",
       "    <tr>\n",
       "      <th>5</th>\n",
       "      <td>5734</td>\n",
       "      <td>5734</td>\n",
       "      <td>5734</td>\n",
       "      <td>5217</td>\n",
       "      <td>5734</td>\n",
       "      <td>5734</td>\n",
       "      <td>5731</td>\n",
       "      <td>5734</td>\n",
       "      <td>5734</td>\n",
       "      <td>5734</td>\n",
       "      <td>5734</td>\n",
       "      <td>0</td>\n",
       "      <td>5734</td>\n",
       "    </tr>\n",
       "    <tr>\n",
       "      <th>6</th>\n",
       "      <td>5720</td>\n",
       "      <td>5720</td>\n",
       "      <td>5720</td>\n",
       "      <td>5145</td>\n",
       "      <td>5720</td>\n",
       "      <td>5720</td>\n",
       "      <td>5716</td>\n",
       "      <td>5720</td>\n",
       "      <td>5720</td>\n",
       "      <td>5720</td>\n",
       "      <td>5720</td>\n",
       "      <td>0</td>\n",
       "      <td>5720</td>\n",
       "    </tr>\n",
       "    <tr>\n",
       "      <th>7</th>\n",
       "      <td>6029</td>\n",
       "      <td>6029</td>\n",
       "      <td>6029</td>\n",
       "      <td>5494</td>\n",
       "      <td>6029</td>\n",
       "      <td>6029</td>\n",
       "      <td>6028</td>\n",
       "      <td>6029</td>\n",
       "      <td>6029</td>\n",
       "      <td>6029</td>\n",
       "      <td>6029</td>\n",
       "      <td>0</td>\n",
       "      <td>6029</td>\n",
       "    </tr>\n",
       "    <tr>\n",
       "      <th>8</th>\n",
       "      <td>4508</td>\n",
       "      <td>4508</td>\n",
       "      <td>4508</td>\n",
       "      <td>4057</td>\n",
       "      <td>4508</td>\n",
       "      <td>4508</td>\n",
       "      <td>4506</td>\n",
       "      <td>4508</td>\n",
       "      <td>4508</td>\n",
       "      <td>4508</td>\n",
       "      <td>4508</td>\n",
       "      <td>0</td>\n",
       "      <td>4508</td>\n",
       "    </tr>\n",
       "    <tr>\n",
       "      <th>12</th>\n",
       "      <td>3898</td>\n",
       "      <td>3898</td>\n",
       "      <td>3898</td>\n",
       "      <td>3538</td>\n",
       "      <td>3898</td>\n",
       "      <td>3898</td>\n",
       "      <td>3896</td>\n",
       "      <td>3898</td>\n",
       "      <td>3898</td>\n",
       "      <td>3898</td>\n",
       "      <td>3898</td>\n",
       "      <td>0</td>\n",
       "      <td>3898</td>\n",
       "    </tr>\n",
       "  </tbody>\n",
       "</table>\n",
       "</div>"
      ],
      "text/plain": [
       "        lat   lng  desc   zip  title  timeStamp   twp  addr     e  Reason  \\\n",
       "Month                                                                       \n",
       "1      6063  6063  6063  5545   6063       6063  6061  6063  6063    6063   \n",
       "2      5413  5413  5413  4890   5413       5413  5412  5413  5413    5413   \n",
       "3      5832  5832  5832  5295   5832       5832  5825  5832  5832    5832   \n",
       "4      5680  5680  5680  5146   5680       5680  5678  5680  5680    5680   \n",
       "5      5734  5734  5734  5217   5734       5734  5731  5734  5734    5734   \n",
       "6      5720  5720  5720  5145   5720       5720  5716  5720  5720    5720   \n",
       "7      6029  6029  6029  5494   6029       6029  6028  6029  6029    6029   \n",
       "8      4508  4508  4508  4057   4508       4508  4506  4508  4508    4508   \n",
       "12     3898  3898  3898  3538   3898       3898  3896  3898  3898    3898   \n",
       "\n",
       "       Description  Day of Week  hour  \n",
       "Month                                  \n",
       "1             6063            0  6063  \n",
       "2             5413            0  5413  \n",
       "3             5832            0  5832  \n",
       "4             5680            0  5680  \n",
       "5             5734            0  5734  \n",
       "6             5720            0  5720  \n",
       "7             6029            0  6029  \n",
       "8             4508            0  4508  \n",
       "12            3898            0  3898  "
      ]
     },
     "execution_count": 60,
     "metadata": {},
     "output_type": "execute_result"
    }
   ],
   "source": [
    "# EMS\n",
    "emsdf = df[df[\"Reason\"] == \"EMS\"]\n",
    "emsByMonth = emsdf.groupby(\"Month\").count()\n",
    "emsByMonth"
   ]
  },
  {
   "cell_type": "code",
   "execution_count": 112,
   "id": "350ea84a",
   "metadata": {},
   "outputs": [
    {
     "data": {
      "text/plain": [
       "<AxesSubplot:xlabel='Month'>"
      ]
     },
     "execution_count": 112,
     "metadata": {},
     "output_type": "execute_result"
    },
    {
     "data": {
      "image/png": "[encoded data removed]",
      "text/plain": [
       "<Figure size 432x288 with 1 Axes>"
      ]
     },
     "metadata": {
      "needs_background": "light"
     },
     "output_type": "display_data"
    }
   ],
   "source": [
    "emsByMonth[\"lat\"].plot()"
   ]
  },
  {
   "cell_type": "code",
   "execution_count": 117,
   "id": "fdc70e52",
   "metadata": {},
   "outputs": [
    {
     "data": {
      "text/html": [
       "<div>\n",
       "<style scoped>\n",
       "    .dataframe tbody tr th:only-of-type {\n",
       "        vertical-align: middle;\n",
       "    }\n",
       "\n",
       "    .dataframe tbody tr th {\n",
       "        vertical-align: top;\n",
       "    }\n",
       "\n",
       "    .dataframe thead th {\n",
       "        text-align: right;\n",
       "    }\n",
       "</style>\n",
       "<table border=\"1\" class=\"dataframe\">\n",
       "  <thead>\n",
       "    <tr style=\"text-align: right;\">\n",
       "      <th></th>\n",
       "      <th>lat</th>\n",
       "      <th>lng</th>\n",
       "      <th>desc</th>\n",
       "      <th>zip</th>\n",
       "      <th>title</th>\n",
       "      <th>timeStamp</th>\n",
       "      <th>twp</th>\n",
       "      <th>addr</th>\n",
       "      <th>e</th>\n",
       "      <th>Reason</th>\n",
       "      <th>Description</th>\n",
       "      <th>Day of Week</th>\n",
       "      <th>hour</th>\n",
       "    </tr>\n",
       "    <tr>\n",
       "      <th>Month</th>\n",
       "      <th></th>\n",
       "      <th></th>\n",
       "      <th></th>\n",
       "      <th></th>\n",
       "      <th></th>\n",
       "      <th></th>\n",
       "      <th></th>\n",
       "      <th></th>\n",
       "      <th></th>\n",
       "      <th></th>\n",
       "      <th></th>\n",
       "      <th></th>\n",
       "      <th></th>\n",
       "    </tr>\n",
       "  </thead>\n",
       "  <tbody>\n",
       "    <tr>\n",
       "      <th>1</th>\n",
       "      <td>1905</td>\n",
       "      <td>1905</td>\n",
       "      <td>1905</td>\n",
       "      <td>1669</td>\n",
       "      <td>1905</td>\n",
       "      <td>1905</td>\n",
       "      <td>1905</td>\n",
       "      <td>1904</td>\n",
       "      <td>1905</td>\n",
       "      <td>1905</td>\n",
       "      <td>1905</td>\n",
       "      <td>1905</td>\n",
       "      <td>1905</td>\n",
       "    </tr>\n",
       "    <tr>\n",
       "      <th>2</th>\n",
       "      <td>1869</td>\n",
       "      <td>1869</td>\n",
       "      <td>1869</td>\n",
       "      <td>1632</td>\n",
       "      <td>1869</td>\n",
       "      <td>1869</td>\n",
       "      <td>1868</td>\n",
       "      <td>1868</td>\n",
       "      <td>1869</td>\n",
       "      <td>1869</td>\n",
       "      <td>1869</td>\n",
       "      <td>1869</td>\n",
       "      <td>1869</td>\n",
       "    </tr>\n",
       "    <tr>\n",
       "      <th>3</th>\n",
       "      <td>1590</td>\n",
       "      <td>1590</td>\n",
       "      <td>1590</td>\n",
       "      <td>1418</td>\n",
       "      <td>1590</td>\n",
       "      <td>1590</td>\n",
       "      <td>1589</td>\n",
       "      <td>1589</td>\n",
       "      <td>1590</td>\n",
       "      <td>1590</td>\n",
       "      <td>1590</td>\n",
       "      <td>1590</td>\n",
       "      <td>1590</td>\n",
       "    </tr>\n",
       "    <tr>\n",
       "      <th>4</th>\n",
       "      <td>1717</td>\n",
       "      <td>1717</td>\n",
       "      <td>1717</td>\n",
       "      <td>1494</td>\n",
       "      <td>1717</td>\n",
       "      <td>1717</td>\n",
       "      <td>1716</td>\n",
       "      <td>1717</td>\n",
       "      <td>1717</td>\n",
       "      <td>1717</td>\n",
       "      <td>1717</td>\n",
       "      <td>1717</td>\n",
       "      <td>1717</td>\n",
       "    </tr>\n",
       "    <tr>\n",
       "      <th>5</th>\n",
       "      <td>1573</td>\n",
       "      <td>1573</td>\n",
       "      <td>1573</td>\n",
       "      <td>1358</td>\n",
       "      <td>1573</td>\n",
       "      <td>1573</td>\n",
       "      <td>1573</td>\n",
       "      <td>1573</td>\n",
       "      <td>1573</td>\n",
       "      <td>1573</td>\n",
       "      <td>1573</td>\n",
       "      <td>1573</td>\n",
       "      <td>1573</td>\n",
       "    </tr>\n",
       "    <tr>\n",
       "      <th>6</th>\n",
       "      <td>1796</td>\n",
       "      <td>1796</td>\n",
       "      <td>1796</td>\n",
       "      <td>1556</td>\n",
       "      <td>1796</td>\n",
       "      <td>1796</td>\n",
       "      <td>1792</td>\n",
       "      <td>1787</td>\n",
       "      <td>1796</td>\n",
       "      <td>1796</td>\n",
       "      <td>1796</td>\n",
       "      <td>1796</td>\n",
       "      <td>1796</td>\n",
       "    </tr>\n",
       "    <tr>\n",
       "      <th>7</th>\n",
       "      <td>1901</td>\n",
       "      <td>1901</td>\n",
       "      <td>1901</td>\n",
       "      <td>1651</td>\n",
       "      <td>1901</td>\n",
       "      <td>1901</td>\n",
       "      <td>1898</td>\n",
       "      <td>1898</td>\n",
       "      <td>1901</td>\n",
       "      <td>1901</td>\n",
       "      <td>1901</td>\n",
       "      <td>1901</td>\n",
       "      <td>1901</td>\n",
       "    </tr>\n",
       "    <tr>\n",
       "      <th>8</th>\n",
       "      <td>1473</td>\n",
       "      <td>1473</td>\n",
       "      <td>1473</td>\n",
       "      <td>1274</td>\n",
       "      <td>1473</td>\n",
       "      <td>1473</td>\n",
       "      <td>1470</td>\n",
       "      <td>1469</td>\n",
       "      <td>1473</td>\n",
       "      <td>1473</td>\n",
       "      <td>1473</td>\n",
       "      <td>1473</td>\n",
       "      <td>1473</td>\n",
       "    </tr>\n",
       "    <tr>\n",
       "      <th>12</th>\n",
       "      <td>1096</td>\n",
       "      <td>1096</td>\n",
       "      <td>1096</td>\n",
       "      <td>960</td>\n",
       "      <td>1096</td>\n",
       "      <td>1096</td>\n",
       "      <td>1092</td>\n",
       "      <td>1095</td>\n",
       "      <td>1096</td>\n",
       "      <td>1096</td>\n",
       "      <td>1096</td>\n",
       "      <td>1096</td>\n",
       "      <td>1096</td>\n",
       "    </tr>\n",
       "  </tbody>\n",
       "</table>\n",
       "</div>"
      ],
      "text/plain": [
       "        lat   lng  desc   zip  title  timeStamp   twp  addr     e  Reason  \\\n",
       "Month                                                                       \n",
       "1      1905  1905  1905  1669   1905       1905  1905  1904  1905    1905   \n",
       "2      1869  1869  1869  1632   1869       1869  1868  1868  1869    1869   \n",
       "3      1590  1590  1590  1418   1590       1590  1589  1589  1590    1590   \n",
       "4      1717  1717  1717  1494   1717       1717  1716  1717  1717    1717   \n",
       "5      1573  1573  1573  1358   1573       1573  1573  1573  1573    1573   \n",
       "6      1796  1796  1796  1556   1796       1796  1792  1787  1796    1796   \n",
       "7      1901  1901  1901  1651   1901       1901  1898  1898  1901    1901   \n",
       "8      1473  1473  1473  1274   1473       1473  1470  1469  1473    1473   \n",
       "12     1096  1096  1096   960   1096       1096  1092  1095  1096    1096   \n",
       "\n",
       "       Description  Day of Week  hour  \n",
       "Month                                  \n",
       "1             1905         1905  1905  \n",
       "2             1869         1869  1869  \n",
       "3             1590         1590  1590  \n",
       "4             1717         1717  1717  \n",
       "5             1573         1573  1573  \n",
       "6             1796         1796  1796  \n",
       "7             1901         1901  1901  \n",
       "8             1473         1473  1473  \n",
       "12            1096         1096  1096  "
      ]
     },
     "execution_count": 117,
     "metadata": {},
     "output_type": "execute_result"
    }
   ],
   "source": [
    "# Fire\n",
    "firedf = df[df[\"Reason\"] == \"Fire\"]\n",
    "fireByMonth = firedf.groupby(\"Month\").count()\n",
    "fireByMonth"
   ]
  },
  {
   "cell_type": "code",
   "execution_count": 118,
   "id": "c25d2262",
   "metadata": {},
   "outputs": [
    {
     "data": {
      "text/plain": [
       "<AxesSubplot:xlabel='Month'>"
      ]
     },
     "execution_count": 118,
     "metadata": {},
     "output_type": "execute_result"
    },
    {
     "data": {
      "image/png": "[encoded data removed]",
      "text/plain": [
       "<Figure size 432x288 with 1 Axes>"
      ]
     },
     "metadata": {
      "needs_background": "light"
     },
     "output_type": "display_data"
    }
   ],
   "source": [
    "fireByMonth['lat'].plot()"
   ]
  },
  {
   "cell_type": "code",
   "execution_count": 116,
   "id": "fd2347a3",
   "metadata": {},
   "outputs": [
    {
     "data": {
      "text/html": [
       "<div>\n",
       "<style scoped>\n",
       "    .dataframe tbody tr th:only-of-type {\n",
       "        vertical-align: middle;\n",
       "    }\n",
       "\n",
       "    .dataframe tbody tr th {\n",
       "        vertical-align: top;\n",
       "    }\n",
       "\n",
       "    .dataframe thead th {\n",
       "        text-align: right;\n",
       "    }\n",
       "</style>\n",
       "<table border=\"1\" class=\"dataframe\">\n",
       "  <thead>\n",
       "    <tr style=\"text-align: right;\">\n",
       "      <th></th>\n",
       "      <th>lat</th>\n",
       "      <th>lng</th>\n",
       "      <th>desc</th>\n",
       "      <th>zip</th>\n",
       "      <th>title</th>\n",
       "      <th>timeStamp</th>\n",
       "      <th>twp</th>\n",
       "      <th>addr</th>\n",
       "      <th>e</th>\n",
       "      <th>Reason</th>\n",
       "      <th>Description</th>\n",
       "      <th>Day of Week</th>\n",
       "      <th>hour</th>\n",
       "    </tr>\n",
       "    <tr>\n",
       "      <th>Month</th>\n",
       "      <th></th>\n",
       "      <th></th>\n",
       "      <th></th>\n",
       "      <th></th>\n",
       "      <th></th>\n",
       "      <th></th>\n",
       "      <th></th>\n",
       "      <th></th>\n",
       "      <th></th>\n",
       "      <th></th>\n",
       "      <th></th>\n",
       "      <th></th>\n",
       "      <th></th>\n",
       "    </tr>\n",
       "  </thead>\n",
       "  <tbody>\n",
       "    <tr>\n",
       "      <th>1</th>\n",
       "      <td>5237</td>\n",
       "      <td>5237</td>\n",
       "      <td>5237</td>\n",
       "      <td>4313</td>\n",
       "      <td>5237</td>\n",
       "      <td>5237</td>\n",
       "      <td>5237</td>\n",
       "      <td>5129</td>\n",
       "      <td>5237</td>\n",
       "      <td>5237</td>\n",
       "      <td>5237</td>\n",
       "      <td>5237</td>\n",
       "      <td>5237</td>\n",
       "    </tr>\n",
       "    <tr>\n",
       "      <th>2</th>\n",
       "      <td>4185</td>\n",
       "      <td>4185</td>\n",
       "      <td>4185</td>\n",
       "      <td>3408</td>\n",
       "      <td>4185</td>\n",
       "      <td>4185</td>\n",
       "      <td>4185</td>\n",
       "      <td>4115</td>\n",
       "      <td>4185</td>\n",
       "      <td>4185</td>\n",
       "      <td>4185</td>\n",
       "      <td>4185</td>\n",
       "      <td>4185</td>\n",
       "    </tr>\n",
       "    <tr>\n",
       "      <th>3</th>\n",
       "      <td>3679</td>\n",
       "      <td>3679</td>\n",
       "      <td>3679</td>\n",
       "      <td>3042</td>\n",
       "      <td>3679</td>\n",
       "      <td>3679</td>\n",
       "      <td>3678</td>\n",
       "      <td>3638</td>\n",
       "      <td>3679</td>\n",
       "      <td>3679</td>\n",
       "      <td>3679</td>\n",
       "      <td>3679</td>\n",
       "      <td>3679</td>\n",
       "    </tr>\n",
       "    <tr>\n",
       "      <th>4</th>\n",
       "      <td>3929</td>\n",
       "      <td>3929</td>\n",
       "      <td>3929</td>\n",
       "      <td>3255</td>\n",
       "      <td>3929</td>\n",
       "      <td>3929</td>\n",
       "      <td>3929</td>\n",
       "      <td>3886</td>\n",
       "      <td>3929</td>\n",
       "      <td>3929</td>\n",
       "      <td>3929</td>\n",
       "      <td>3929</td>\n",
       "      <td>3929</td>\n",
       "    </tr>\n",
       "    <tr>\n",
       "      <th>5</th>\n",
       "      <td>4116</td>\n",
       "      <td>4116</td>\n",
       "      <td>4116</td>\n",
       "      <td>3371</td>\n",
       "      <td>4116</td>\n",
       "      <td>4116</td>\n",
       "      <td>4116</td>\n",
       "      <td>4071</td>\n",
       "      <td>4116</td>\n",
       "      <td>4116</td>\n",
       "      <td>4116</td>\n",
       "      <td>4116</td>\n",
       "      <td>4116</td>\n",
       "    </tr>\n",
       "    <tr>\n",
       "      <th>6</th>\n",
       "      <td>4270</td>\n",
       "      <td>4270</td>\n",
       "      <td>4270</td>\n",
       "      <td>3511</td>\n",
       "      <td>4270</td>\n",
       "      <td>4270</td>\n",
       "      <td>4269</td>\n",
       "      <td>4225</td>\n",
       "      <td>4270</td>\n",
       "      <td>4270</td>\n",
       "      <td>4270</td>\n",
       "      <td>4270</td>\n",
       "      <td>4270</td>\n",
       "    </tr>\n",
       "    <tr>\n",
       "      <th>7</th>\n",
       "      <td>4207</td>\n",
       "      <td>4207</td>\n",
       "      <td>4207</td>\n",
       "      <td>3488</td>\n",
       "      <td>4207</td>\n",
       "      <td>4207</td>\n",
       "      <td>4207</td>\n",
       "      <td>4161</td>\n",
       "      <td>4207</td>\n",
       "      <td>4207</td>\n",
       "      <td>4207</td>\n",
       "      <td>4207</td>\n",
       "      <td>4207</td>\n",
       "    </tr>\n",
       "    <tr>\n",
       "      <th>8</th>\n",
       "      <td>3097</td>\n",
       "      <td>3097</td>\n",
       "      <td>3097</td>\n",
       "      <td>2501</td>\n",
       "      <td>3097</td>\n",
       "      <td>3097</td>\n",
       "      <td>3097</td>\n",
       "      <td>3048</td>\n",
       "      <td>3097</td>\n",
       "      <td>3097</td>\n",
       "      <td>3097</td>\n",
       "      <td>3097</td>\n",
       "      <td>3097</td>\n",
       "    </tr>\n",
       "    <tr>\n",
       "      <th>12</th>\n",
       "      <td>2975</td>\n",
       "      <td>2975</td>\n",
       "      <td>2975</td>\n",
       "      <td>2409</td>\n",
       "      <td>2975</td>\n",
       "      <td>2975</td>\n",
       "      <td>2975</td>\n",
       "      <td>2923</td>\n",
       "      <td>2975</td>\n",
       "      <td>2975</td>\n",
       "      <td>2975</td>\n",
       "      <td>2975</td>\n",
       "      <td>2975</td>\n",
       "    </tr>\n",
       "  </tbody>\n",
       "</table>\n",
       "</div>"
      ],
      "text/plain": [
       "        lat   lng  desc   zip  title  timeStamp   twp  addr     e  Reason  \\\n",
       "Month                                                                       \n",
       "1      5237  5237  5237  4313   5237       5237  5237  5129  5237    5237   \n",
       "2      4185  4185  4185  3408   4185       4185  4185  4115  4185    4185   \n",
       "3      3679  3679  3679  3042   3679       3679  3678  3638  3679    3679   \n",
       "4      3929  3929  3929  3255   3929       3929  3929  3886  3929    3929   \n",
       "5      4116  4116  4116  3371   4116       4116  4116  4071  4116    4116   \n",
       "6      4270  4270  4270  3511   4270       4270  4269  4225  4270    4270   \n",
       "7      4207  4207  4207  3488   4207       4207  4207  4161  4207    4207   \n",
       "8      3097  3097  3097  2501   3097       3097  3097  3048  3097    3097   \n",
       "12     2975  2975  2975  2409   2975       2975  2975  2923  2975    2975   \n",
       "\n",
       "       Description  Day of Week  hour  \n",
       "Month                                  \n",
       "1             5237         5237  5237  \n",
       "2             4185         4185  4185  \n",
       "3             3679         3679  3679  \n",
       "4             3929         3929  3929  \n",
       "5             4116         4116  4116  \n",
       "6             4270         4270  4270  \n",
       "7             4207         4207  4207  \n",
       "8             3097         3097  3097  \n",
       "12            2975         2975  2975  "
      ]
     },
     "execution_count": 116,
     "metadata": {},
     "output_type": "execute_result"
    }
   ],
   "source": [
    "# Traffic\n",
    "trafficdf = df[df[\"Reason\"] == \"Traffic\"]\n",
    "traficByMonth = trafficdf.groupby(\"Month\").count()\n",
    "traficByMonth"
   ]
  },
  {
   "cell_type": "code",
   "execution_count": 137,
   "id": "08eb0815",
   "metadata": {},
   "outputs": [
    {
     "data": {
      "text/plain": [
       "<AxesSubplot:xlabel='Month'>"
      ]
     },
     "execution_count": 137,
     "metadata": {},
     "output_type": "execute_result"
    },
    {
     "data": {
      "image/png": "[encoded data removed]",
      "text/plain": [
       "<Figure size 432x288 with 1 Axes>"
      ]
     },
     "metadata": {
      "needs_background": "light"
     },
     "output_type": "display_data"
    }
   ],
   "source": [
    "traficByMonth['lat'].plot()"
   ]
  },
  {
   "cell_type": "code",
   "execution_count": 138,
   "id": "f756beba",
   "metadata": {},
   "outputs": [
    {
     "data": {
      "text/plain": [
       "<seaborn.axisgrid.FacetGrid at 0x7fb0e8a59400>"
      ]
     },
     "execution_count": 138,
     "metadata": {},
     "output_type": "execute_result"
    },
    {
     "data": {
      "image/png": "[encoded data removed]",
      "text/plain": [
       "<Figure size 360x360 with 1 Axes>"
      ]
     },
     "metadata": {
      "needs_background": "light"
     },
     "output_type": "display_data"
    }
   ],
   "source": [
    "#linear model plot by Month\n",
    "sns.lmplot(x = \"Month\", y = \"twp\", data = byMonth.reset_index())"
   ]
  },
  {
   "cell_type": "code",
   "execution_count": 291,
   "id": "1c03f8fc",
   "metadata": {},
   "outputs": [],
   "source": [
    "#We can see that there is a significant drop in the month of august"
   ]
  },
  {
   "cell_type": "code",
   "execution_count": 294,
   "id": "54f5ff52",
   "metadata": {},
   "outputs": [
    {
     "data": {
      "text/plain": [
       "<AxesSubplot:xlabel='Day of Week', ylabel='count'>"
      ]
     },
     "execution_count": 294,
     "metadata": {},
     "output_type": "execute_result"
    },
    {
     "data": {
      "image/png": "[encoded data removed]",
      "text/plain": [
       "<Figure size 432x288 with 1 Axes>"
      ]
     },
     "metadata": {
      "needs_background": "light"
     },
     "output_type": "display_data"
    }
   ],
   "source": [
    "#Plot of call by Days of Week\n",
    "sns.countplot(x = \"Day of Week\", data = df)"
   ]
  },
  {
   "cell_type": "markdown",
   "id": "2f11034e",
   "metadata": {},
   "source": [
    "There are less 911 calls on Sunday compared to the rest of the days"
   ]
  },
  {
   "cell_type": "code",
   "execution_count": 292,
   "id": "b8bc0485",
   "metadata": {},
   "outputs": [
    {
     "data": {
      "text/plain": [
       "<matplotlib.legend.Legend at 0x7fb0d2883850>"
      ]
     },
     "execution_count": 292,
     "metadata": {},
     "output_type": "execute_result"
    },
    {
     "data": {
      "image/png": "[encoded data removed]",
      "text/plain": [
       "<Figure size 432x288 with 1 Axes>"
      ]
     },
     "metadata": {
      "needs_background": "light"
     },
     "output_type": "display_data"
    }
   ],
   "source": [
    "sns.countplot(x = \"Day of Week\", data = df, hue = \"Reason\")\n",
    "plt.legend(bbox_to_anchor = (1,1),loc = 2)"
   ]
  },
  {
   "cell_type": "code",
   "execution_count": 293,
   "id": "0dfab013",
   "metadata": {},
   "outputs": [
    {
     "data": {
      "text/html": [
       "<div>\n",
       "<style scoped>\n",
       "    .dataframe tbody tr th:only-of-type {\n",
       "        vertical-align: middle;\n",
       "    }\n",
       "\n",
       "    .dataframe tbody tr th {\n",
       "        vertical-align: top;\n",
       "    }\n",
       "\n",
       "    .dataframe thead th {\n",
       "        text-align: right;\n",
       "    }\n",
       "</style>\n",
       "<table border=\"1\" class=\"dataframe\">\n",
       "  <thead>\n",
       "    <tr style=\"text-align: right;\">\n",
       "      <th></th>\n",
       "      <th>Lattitude</th>\n",
       "      <th>Longitude</th>\n",
       "      <th>desc</th>\n",
       "      <th>Zipcode</th>\n",
       "      <th>Title</th>\n",
       "      <th>TimeStamp</th>\n",
       "      <th>Township</th>\n",
       "      <th>Address</th>\n",
       "      <th>Dummy</th>\n",
       "      <th>Reason</th>\n",
       "      <th>Description</th>\n",
       "      <th>Month</th>\n",
       "      <th>hour</th>\n",
       "    </tr>\n",
       "    <tr>\n",
       "      <th>Day of Week</th>\n",
       "      <th></th>\n",
       "      <th></th>\n",
       "      <th></th>\n",
       "      <th></th>\n",
       "      <th></th>\n",
       "      <th></th>\n",
       "      <th></th>\n",
       "      <th></th>\n",
       "      <th></th>\n",
       "      <th></th>\n",
       "      <th></th>\n",
       "      <th></th>\n",
       "      <th></th>\n",
       "    </tr>\n",
       "  </thead>\n",
       "  <tbody>\n",
       "    <tr>\n",
       "      <th>Fri</th>\n",
       "      <td>14833</td>\n",
       "      <td>14833</td>\n",
       "      <td>14833</td>\n",
       "      <td>12887</td>\n",
       "      <td>14833</td>\n",
       "      <td>14833</td>\n",
       "      <td>14830</td>\n",
       "      <td>14758</td>\n",
       "      <td>14833</td>\n",
       "      <td>14833</td>\n",
       "      <td>14833</td>\n",
       "      <td>14833</td>\n",
       "      <td>14833</td>\n",
       "    </tr>\n",
       "    <tr>\n",
       "      <th>Mon</th>\n",
       "      <td>14680</td>\n",
       "      <td>14680</td>\n",
       "      <td>14680</td>\n",
       "      <td>12763</td>\n",
       "      <td>14680</td>\n",
       "      <td>14680</td>\n",
       "      <td>14674</td>\n",
       "      <td>14627</td>\n",
       "      <td>14680</td>\n",
       "      <td>14680</td>\n",
       "      <td>14680</td>\n",
       "      <td>14680</td>\n",
       "      <td>14680</td>\n",
       "    </tr>\n",
       "    <tr>\n",
       "      <th>Sat</th>\n",
       "      <td>13336</td>\n",
       "      <td>13336</td>\n",
       "      <td>13336</td>\n",
       "      <td>11612</td>\n",
       "      <td>13336</td>\n",
       "      <td>13336</td>\n",
       "      <td>13330</td>\n",
       "      <td>13234</td>\n",
       "      <td>13336</td>\n",
       "      <td>13336</td>\n",
       "      <td>13336</td>\n",
       "      <td>13336</td>\n",
       "      <td>13336</td>\n",
       "    </tr>\n",
       "    <tr>\n",
       "      <th>Sun</th>\n",
       "      <td>12136</td>\n",
       "      <td>12136</td>\n",
       "      <td>12136</td>\n",
       "      <td>10558</td>\n",
       "      <td>12136</td>\n",
       "      <td>12136</td>\n",
       "      <td>12130</td>\n",
       "      <td>12095</td>\n",
       "      <td>12136</td>\n",
       "      <td>12136</td>\n",
       "      <td>12136</td>\n",
       "      <td>12136</td>\n",
       "      <td>12136</td>\n",
       "    </tr>\n",
       "    <tr>\n",
       "      <th>Thu</th>\n",
       "      <td>14478</td>\n",
       "      <td>14478</td>\n",
       "      <td>14478</td>\n",
       "      <td>12580</td>\n",
       "      <td>14478</td>\n",
       "      <td>14478</td>\n",
       "      <td>14474</td>\n",
       "      <td>14408</td>\n",
       "      <td>14478</td>\n",
       "      <td>14478</td>\n",
       "      <td>14478</td>\n",
       "      <td>14478</td>\n",
       "      <td>14478</td>\n",
       "    </tr>\n",
       "    <tr>\n",
       "      <th>Tue</th>\n",
       "      <td>15150</td>\n",
       "      <td>15150</td>\n",
       "      <td>15150</td>\n",
       "      <td>13207</td>\n",
       "      <td>15150</td>\n",
       "      <td>15150</td>\n",
       "      <td>15143</td>\n",
       "      <td>15057</td>\n",
       "      <td>15150</td>\n",
       "      <td>15150</td>\n",
       "      <td>15150</td>\n",
       "      <td>15150</td>\n",
       "      <td>15150</td>\n",
       "    </tr>\n",
       "    <tr>\n",
       "      <th>Wed</th>\n",
       "      <td>14879</td>\n",
       "      <td>14879</td>\n",
       "      <td>14879</td>\n",
       "      <td>13030</td>\n",
       "      <td>14879</td>\n",
       "      <td>14879</td>\n",
       "      <td>14868</td>\n",
       "      <td>14794</td>\n",
       "      <td>14879</td>\n",
       "      <td>14879</td>\n",
       "      <td>14879</td>\n",
       "      <td>14879</td>\n",
       "      <td>14879</td>\n",
       "    </tr>\n",
       "  </tbody>\n",
       "</table>\n",
       "</div>"
      ],
      "text/plain": [
       "             Lattitude  Longitude   desc  Zipcode  Title  TimeStamp  Township  \\\n",
       "Day of Week                                                                     \n",
       "Fri              14833      14833  14833    12887  14833      14833     14830   \n",
       "Mon              14680      14680  14680    12763  14680      14680     14674   \n",
       "Sat              13336      13336  13336    11612  13336      13336     13330   \n",
       "Sun              12136      12136  12136    10558  12136      12136     12130   \n",
       "Thu              14478      14478  14478    12580  14478      14478     14474   \n",
       "Tue              15150      15150  15150    13207  15150      15150     15143   \n",
       "Wed              14879      14879  14879    13030  14879      14879     14868   \n",
       "\n",
       "             Address  Dummy  Reason  Description  Month   hour  \n",
       "Day of Week                                                     \n",
       "Fri            14758  14833   14833        14833  14833  14833  \n",
       "Mon            14627  14680   14680        14680  14680  14680  \n",
       "Sat            13234  13336   13336        13336  13336  13336  \n",
       "Sun            12095  12136   12136        12136  12136  12136  \n",
       "Thu            14408  14478   14478        14478  14478  14478  \n",
       "Tue            15057  15150   15150        15150  15150  15150  \n",
       "Wed            14794  14879   14879        14879  14879  14879  "
      ]
     },
     "execution_count": 293,
     "metadata": {},
     "output_type": "execute_result"
    }
   ],
   "source": [
    "#Grouping by Day of Week\n",
    "byDayOfWeek = df.groupby(\"Day of Week\").count()\n",
    "byDayOfWeek"
   ]
  },
  {
   "cell_type": "code",
   "execution_count": 296,
   "id": "e5bb4aa0",
   "metadata": {},
   "outputs": [
    {
     "data": {
      "text/plain": [
       "<AxesSubplot:xlabel='Day of Week'>"
      ]
     },
     "execution_count": 296,
     "metadata": {},
     "output_type": "execute_result"
    },
    {
     "data": {
      "image/png": "[encoded data removed]",
      "text/plain": [
       "<Figure size 432x288 with 1 Axes>"
      ]
     },
     "metadata": {
      "needs_background": "light"
     },
     "output_type": "display_data"
    }
   ],
   "source": [
    "byDayOfWeek['Lattitude'].plot()"
   ]
  },
  {
   "cell_type": "markdown",
   "id": "8f19b18a",
   "metadata": {},
   "source": [
    "#### We can see that call are relatively low on Sundays compared to other days\n",
    "If we were to plan agents' schedules, we might think of reducing the number of 911 agents on Sunday compared to other days"
   ]
  },
  {
   "cell_type": "markdown",
   "id": "423489bf",
   "metadata": {},
   "source": [
    "### Township Investigation"
   ]
  },
  {
   "cell_type": "code",
   "execution_count": 322,
   "id": "29bab9eb",
   "metadata": {},
   "outputs": [
    {
     "data": {
      "text/plain": [
       "0              NEW HANOVER\n",
       "1        HATFIELD TOWNSHIP\n",
       "2               NORRISTOWN\n",
       "3               NORRISTOWN\n",
       "4         LOWER POTTSGROVE\n",
       "               ...        \n",
       "99487           NORRISTOWN\n",
       "99488         LOWER MERION\n",
       "99489           NORRISTOWN\n",
       "99490              HORSHAM\n",
       "99491        UPPER GWYNEDD\n",
       "Name: Township, Length: 99492, dtype: object"
      ]
     },
     "execution_count": 322,
     "metadata": {},
     "output_type": "execute_result"
    }
   ],
   "source": [
    "df[\"Township\"]"
   ]
  },
  {
   "cell_type": "code",
   "execution_count": 336,
   "id": "4410749f",
   "metadata": {},
   "outputs": [
    {
     "data": {
      "text/html": [
       "<div>\n",
       "<style scoped>\n",
       "    .dataframe tbody tr th:only-of-type {\n",
       "        vertical-align: middle;\n",
       "    }\n",
       "\n",
       "    .dataframe tbody tr th {\n",
       "        vertical-align: top;\n",
       "    }\n",
       "\n",
       "    .dataframe thead th {\n",
       "        text-align: right;\n",
       "    }\n",
       "</style>\n",
       "<table border=\"1\" class=\"dataframe\">\n",
       "  <thead>\n",
       "    <tr style=\"text-align: right;\">\n",
       "      <th></th>\n",
       "      <th>Township</th>\n",
       "      <th>Township</th>\n",
       "    </tr>\n",
       "  </thead>\n",
       "  <tbody>\n",
       "    <tr>\n",
       "      <th>0</th>\n",
       "      <td>LOWER MERION</td>\n",
       "      <td>8443</td>\n",
       "    </tr>\n",
       "    <tr>\n",
       "      <th>1</th>\n",
       "      <td>ABINGTON</td>\n",
       "      <td>5977</td>\n",
       "    </tr>\n",
       "    <tr>\n",
       "      <th>2</th>\n",
       "      <td>NORRISTOWN</td>\n",
       "      <td>5890</td>\n",
       "    </tr>\n",
       "    <tr>\n",
       "      <th>3</th>\n",
       "      <td>UPPER MERION</td>\n",
       "      <td>5227</td>\n",
       "    </tr>\n",
       "    <tr>\n",
       "      <th>4</th>\n",
       "      <td>CHELTENHAM</td>\n",
       "      <td>4575</td>\n",
       "    </tr>\n",
       "    <tr>\n",
       "      <th>5</th>\n",
       "      <td>POTTSTOWN</td>\n",
       "      <td>4146</td>\n",
       "    </tr>\n",
       "    <tr>\n",
       "      <th>6</th>\n",
       "      <td>UPPER MORELAND</td>\n",
       "      <td>3434</td>\n",
       "    </tr>\n",
       "    <tr>\n",
       "      <th>7</th>\n",
       "      <td>LOWER PROVIDENCE</td>\n",
       "      <td>3225</td>\n",
       "    </tr>\n",
       "    <tr>\n",
       "      <th>8</th>\n",
       "      <td>PLYMOUTH</td>\n",
       "      <td>3158</td>\n",
       "    </tr>\n",
       "    <tr>\n",
       "      <th>9</th>\n",
       "      <td>HORSHAM</td>\n",
       "      <td>3003</td>\n",
       "    </tr>\n",
       "  </tbody>\n",
       "</table>\n",
       "</div>"
      ],
      "text/plain": [
       "           Township  Township\n",
       "0      LOWER MERION      8443\n",
       "1          ABINGTON      5977\n",
       "2        NORRISTOWN      5890\n",
       "3      UPPER MERION      5227\n",
       "4        CHELTENHAM      4575\n",
       "5         POTTSTOWN      4146\n",
       "6    UPPER MORELAND      3434\n",
       "7  LOWER PROVIDENCE      3225\n",
       "8          PLYMOUTH      3158\n",
       "9           HORSHAM      3003"
      ]
     },
     "execution_count": 336,
     "metadata": {},
     "output_type": "execute_result"
    }
   ],
   "source": [
    "d.reset_index().rename(columns = {\"index\": \"Township\"})"
   ]
  },
  {
   "cell_type": "code",
   "execution_count": 337,
   "id": "7273e35f",
   "metadata": {},
   "outputs": [
    {
     "data": {
      "text/html": [
       "<div>\n",
       "<style scoped>\n",
       "    .dataframe tbody tr th:only-of-type {\n",
       "        vertical-align: middle;\n",
       "    }\n",
       "\n",
       "    .dataframe tbody tr th {\n",
       "        vertical-align: top;\n",
       "    }\n",
       "\n",
       "    .dataframe thead th {\n",
       "        text-align: right;\n",
       "    }\n",
       "</style>\n",
       "<table border=\"1\" class=\"dataframe\">\n",
       "  <thead>\n",
       "    <tr style=\"text-align: right;\">\n",
       "      <th></th>\n",
       "      <th>Township</th>\n",
       "    </tr>\n",
       "  </thead>\n",
       "  <tbody>\n",
       "    <tr>\n",
       "      <th>LOWER MERION</th>\n",
       "      <td>8443</td>\n",
       "    </tr>\n",
       "    <tr>\n",
       "      <th>ABINGTON</th>\n",
       "      <td>5977</td>\n",
       "    </tr>\n",
       "    <tr>\n",
       "      <th>NORRISTOWN</th>\n",
       "      <td>5890</td>\n",
       "    </tr>\n",
       "    <tr>\n",
       "      <th>UPPER MERION</th>\n",
       "      <td>5227</td>\n",
       "    </tr>\n",
       "    <tr>\n",
       "      <th>CHELTENHAM</th>\n",
       "      <td>4575</td>\n",
       "    </tr>\n",
       "    <tr>\n",
       "      <th>POTTSTOWN</th>\n",
       "      <td>4146</td>\n",
       "    </tr>\n",
       "    <tr>\n",
       "      <th>UPPER MORELAND</th>\n",
       "      <td>3434</td>\n",
       "    </tr>\n",
       "    <tr>\n",
       "      <th>LOWER PROVIDENCE</th>\n",
       "      <td>3225</td>\n",
       "    </tr>\n",
       "    <tr>\n",
       "      <th>PLYMOUTH</th>\n",
       "      <td>3158</td>\n",
       "    </tr>\n",
       "    <tr>\n",
       "      <th>HORSHAM</th>\n",
       "      <td>3003</td>\n",
       "    </tr>\n",
       "  </tbody>\n",
       "</table>\n",
       "</div>"
      ],
      "text/plain": [
       "                  Township\n",
       "LOWER MERION          8443\n",
       "ABINGTON              5977\n",
       "NORRISTOWN            5890\n",
       "UPPER MERION          5227\n",
       "CHELTENHAM            4575\n",
       "POTTSTOWN             4146\n",
       "UPPER MORELAND        3434\n",
       "LOWER PROVIDENCE      3225\n",
       "PLYMOUTH              3158\n",
       "HORSHAM               3003"
      ]
     },
     "execution_count": 337,
     "metadata": {},
     "output_type": "execute_result"
    }
   ],
   "source": [
    "pd.DataFrame(data=df[\"Township\"].value_counts()[:10])"
   ]
  },
  {
   "cell_type": "code",
   "execution_count": 353,
   "id": "2d4e073b",
   "metadata": {},
   "outputs": [],
   "source": [
    "#d = pd.DataFrame(data=df[\"Township\"].value_counts()[:10])\n",
    "#d.rename(columns = {\"Township\" : \"Calls\"}, inplace = True)\n",
    "#d.reset_index(inplace = True)\n",
    "d.rename(columns = {\"index\": \"Township\"}, inplace = True)"
   ]
  },
  {
   "cell_type": "code",
   "execution_count": 354,
   "id": "7f229ee8",
   "metadata": {},
   "outputs": [
    {
     "data": {
      "text/html": [
       "<div>\n",
       "<style scoped>\n",
       "    .dataframe tbody tr th:only-of-type {\n",
       "        vertical-align: middle;\n",
       "    }\n",
       "\n",
       "    .dataframe tbody tr th {\n",
       "        vertical-align: top;\n",
       "    }\n",
       "\n",
       "    .dataframe thead th {\n",
       "        text-align: right;\n",
       "    }\n",
       "</style>\n",
       "<table border=\"1\" class=\"dataframe\">\n",
       "  <thead>\n",
       "    <tr style=\"text-align: right;\">\n",
       "      <th></th>\n",
       "      <th>Township</th>\n",
       "      <th>Calls</th>\n",
       "    </tr>\n",
       "  </thead>\n",
       "  <tbody>\n",
       "    <tr>\n",
       "      <th>0</th>\n",
       "      <td>LOWER MERION</td>\n",
       "      <td>8443</td>\n",
       "    </tr>\n",
       "    <tr>\n",
       "      <th>1</th>\n",
       "      <td>ABINGTON</td>\n",
       "      <td>5977</td>\n",
       "    </tr>\n",
       "    <tr>\n",
       "      <th>2</th>\n",
       "      <td>NORRISTOWN</td>\n",
       "      <td>5890</td>\n",
       "    </tr>\n",
       "    <tr>\n",
       "      <th>3</th>\n",
       "      <td>UPPER MERION</td>\n",
       "      <td>5227</td>\n",
       "    </tr>\n",
       "    <tr>\n",
       "      <th>4</th>\n",
       "      <td>CHELTENHAM</td>\n",
       "      <td>4575</td>\n",
       "    </tr>\n",
       "    <tr>\n",
       "      <th>5</th>\n",
       "      <td>POTTSTOWN</td>\n",
       "      <td>4146</td>\n",
       "    </tr>\n",
       "    <tr>\n",
       "      <th>6</th>\n",
       "      <td>UPPER MORELAND</td>\n",
       "      <td>3434</td>\n",
       "    </tr>\n",
       "    <tr>\n",
       "      <th>7</th>\n",
       "      <td>LOWER PROVIDENCE</td>\n",
       "      <td>3225</td>\n",
       "    </tr>\n",
       "    <tr>\n",
       "      <th>8</th>\n",
       "      <td>PLYMOUTH</td>\n",
       "      <td>3158</td>\n",
       "    </tr>\n",
       "    <tr>\n",
       "      <th>9</th>\n",
       "      <td>HORSHAM</td>\n",
       "      <td>3003</td>\n",
       "    </tr>\n",
       "  </tbody>\n",
       "</table>\n",
       "</div>"
      ],
      "text/plain": [
       "           Township  Calls\n",
       "0      LOWER MERION   8443\n",
       "1          ABINGTON   5977\n",
       "2        NORRISTOWN   5890\n",
       "3      UPPER MERION   5227\n",
       "4        CHELTENHAM   4575\n",
       "5         POTTSTOWN   4146\n",
       "6    UPPER MORELAND   3434\n",
       "7  LOWER PROVIDENCE   3225\n",
       "8          PLYMOUTH   3158\n",
       "9           HORSHAM   3003"
      ]
     },
     "execution_count": 354,
     "metadata": {},
     "output_type": "execute_result"
    }
   ],
   "source": [
    "d"
   ]
  },
  {
   "cell_type": "code",
   "execution_count": 360,
   "id": "2e74aab4",
   "metadata": {},
   "outputs": [
    {
     "data": {
      "text/plain": [
       "<AxesSubplot:xlabel='Township', ylabel='Calls'>"
      ]
     },
     "execution_count": 360,
     "metadata": {},
     "output_type": "execute_result"
    },
    {
     "data": {
      "image/png": "[encoded data removed]",
      "text/plain": [
       "<Figure size 1296x432 with 1 Axes>"
      ]
     },
     "metadata": {
      "needs_background": "light"
     },
     "output_type": "display_data"
    }
   ],
   "source": [
    "plt.figure(figsize = (18,6))\n",
    "sns.barplot(x = \"Township\", y = \"Calls\", data = d)\n",
    "#plt.tight_layout"
   ]
  },
  {
   "cell_type": "code",
   "execution_count": 301,
   "id": "1410c16b",
   "metadata": {},
   "outputs": [
    {
     "data": {
      "text/plain": [
       "NORRISTOWN          3858\n",
       "LOWER MERION        3171\n",
       "ABINGTON            3043\n",
       "POTTSTOWN           2635\n",
       "CHELTENHAM          2098\n",
       "UPPER MERION        2065\n",
       "LOWER PROVIDENCE    2026\n",
       "UPPER MORELAND      1733\n",
       "HORSHAM             1324\n",
       "PLYMOUTH            1274\n",
       "Name: Township, dtype: int64"
      ]
     },
     "execution_count": 301,
     "metadata": {},
     "output_type": "execute_result"
    }
   ],
   "source": [
    "df[df[\"Reason\"]==\"EMS\"]['Township'].value_counts()[:10]"
   ]
  },
  {
   "cell_type": "code",
   "execution_count": 304,
   "id": "5d88d6b8",
   "metadata": {},
   "outputs": [
    {
     "data": {
      "text/plain": [
       "LOWER MERION        1548\n",
       "ABINGTON             940\n",
       "NORRISTOWN           777\n",
       "CHELTENHAM           674\n",
       "UPPER MERION         663\n",
       "POTTSTOWN            615\n",
       "PLYMOUTH             442\n",
       "WHITEMARSH           431\n",
       "UPPER PROVIDENCE     417\n",
       "LIMERICK             415\n",
       "Name: Township, dtype: int64"
      ]
     },
     "execution_count": 304,
     "metadata": {},
     "output_type": "execute_result"
    }
   ],
   "source": [
    "df[df[\"Reason\"]==\"Fire\"]['Township'].value_counts()[:10]"
   ]
  },
  {
   "cell_type": "code",
   "execution_count": 303,
   "id": "d3d4b832",
   "metadata": {},
   "outputs": [
    {
     "data": {
      "text/plain": [
       "LOWER MERION      3724\n",
       "UPPER MERION      2499\n",
       "ABINGTON          1994\n",
       "CHELTENHAM        1803\n",
       "PLYMOUTH          1442\n",
       "HORSHAM           1315\n",
       "UPPER MORELAND    1309\n",
       "UPPER DUBLIN      1298\n",
       "MONTGOMERY        1281\n",
       "NORRISTOWN        1255\n",
       "Name: Township, dtype: int64"
      ]
     },
     "execution_count": 303,
     "metadata": {},
     "output_type": "execute_result"
    }
   ],
   "source": [
    "df[df[\"Reason\"]==\"Traffic\"]['Township'].value_counts()[:10]"
   ]
  },
  {
   "cell_type": "code",
   "execution_count": 140,
   "id": "2bc162b8",
   "metadata": {},
   "outputs": [],
   "source": [
    "#Let's now investigate the time of the day the calls happened"
   ]
  },
  {
   "cell_type": "code",
   "execution_count": 133,
   "id": "e29d188e",
   "metadata": {},
   "outputs": [
    {
     "data": {
      "text/plain": [
       "<AxesSubplot:xlabel='hour', ylabel='count'>"
      ]
     },
     "execution_count": 133,
     "metadata": {},
     "output_type": "execute_result"
    },
    {
     "data": {
      "image/png": "[encoded data removed]",
      "text/plain": [
       "<Figure size 432x288 with 1 Axes>"
      ]
     },
     "metadata": {
      "needs_background": "light"
     },
     "output_type": "display_data"
    }
   ],
   "source": [
    "sns.countplot(x = \"hour\", data = df)"
   ]
  },
  {
   "cell_type": "markdown",
   "id": "a79e1d00",
   "metadata": {},
   "source": [
    "It picks around the evening between 12pm and 6pm"
   ]
  },
  {
   "cell_type": "markdown",
   "id": "02fb2c31",
   "metadata": {},
   "source": [
    "Let's now investigate the time frame of the call.<br>\n",
    "We will create a time series graph showing the number of call every day "
   ]
  },
  {
   "cell_type": "markdown",
   "id": "070a3068",
   "metadata": {},
   "source": [
    "For that we need to extract the date from the \"TimeStamp\" column which contains date and time"
   ]
  },
  {
   "cell_type": "code",
   "execution_count": 367,
   "id": "27fba324",
   "metadata": {},
   "outputs": [
    {
     "data": {
      "text/plain": [
       "datetime.date(2015, 12, 10)"
      ]
     },
     "execution_count": 367,
     "metadata": {},
     "output_type": "execute_result"
    }
   ],
   "source": [
    "df['TimeStamp'][0].date()"
   ]
  },
  {
   "cell_type": "code",
   "execution_count": 368,
   "id": "693267ea",
   "metadata": {},
   "outputs": [],
   "source": [
    "df['Date'] = df['TimeStamp'].apply(lambda t: t.date())"
   ]
  },
  {
   "cell_type": "code",
   "execution_count": 149,
   "id": "c92557f1",
   "metadata": {},
   "outputs": [],
   "source": [
    "#df[\"Date\"]"
   ]
  },
  {
   "cell_type": "code",
   "execution_count": 369,
   "id": "035d041c",
   "metadata": {},
   "outputs": [
    {
     "data": {
      "text/html": [
       "<div>\n",
       "<style scoped>\n",
       "    .dataframe tbody tr th:only-of-type {\n",
       "        vertical-align: middle;\n",
       "    }\n",
       "\n",
       "    .dataframe tbody tr th {\n",
       "        vertical-align: top;\n",
       "    }\n",
       "\n",
       "    .dataframe thead th {\n",
       "        text-align: right;\n",
       "    }\n",
       "</style>\n",
       "<table border=\"1\" class=\"dataframe\">\n",
       "  <thead>\n",
       "    <tr style=\"text-align: right;\">\n",
       "      <th></th>\n",
       "      <th>Lattitude</th>\n",
       "      <th>Longitude</th>\n",
       "      <th>desc</th>\n",
       "      <th>Zipcode</th>\n",
       "      <th>Title</th>\n",
       "      <th>TimeStamp</th>\n",
       "      <th>Township</th>\n",
       "      <th>Address</th>\n",
       "      <th>Dummy</th>\n",
       "      <th>Reason</th>\n",
       "      <th>Description</th>\n",
       "      <th>Month</th>\n",
       "      <th>Day of Week</th>\n",
       "      <th>hour</th>\n",
       "    </tr>\n",
       "    <tr>\n",
       "      <th>Date</th>\n",
       "      <th></th>\n",
       "      <th></th>\n",
       "      <th></th>\n",
       "      <th></th>\n",
       "      <th></th>\n",
       "      <th></th>\n",
       "      <th></th>\n",
       "      <th></th>\n",
       "      <th></th>\n",
       "      <th></th>\n",
       "      <th></th>\n",
       "      <th></th>\n",
       "      <th></th>\n",
       "      <th></th>\n",
       "    </tr>\n",
       "  </thead>\n",
       "  <tbody>\n",
       "    <tr>\n",
       "      <th>2015-12-10</th>\n",
       "      <td>115</td>\n",
       "      <td>115</td>\n",
       "      <td>115</td>\n",
       "      <td>100</td>\n",
       "      <td>115</td>\n",
       "      <td>115</td>\n",
       "      <td>115</td>\n",
       "      <td>113</td>\n",
       "      <td>115</td>\n",
       "      <td>115</td>\n",
       "      <td>115</td>\n",
       "      <td>115</td>\n",
       "      <td>115</td>\n",
       "      <td>115</td>\n",
       "    </tr>\n",
       "    <tr>\n",
       "      <th>2015-12-11</th>\n",
       "      <td>396</td>\n",
       "      <td>396</td>\n",
       "      <td>396</td>\n",
       "      <td>333</td>\n",
       "      <td>396</td>\n",
       "      <td>396</td>\n",
       "      <td>395</td>\n",
       "      <td>391</td>\n",
       "      <td>396</td>\n",
       "      <td>396</td>\n",
       "      <td>396</td>\n",
       "      <td>396</td>\n",
       "      <td>396</td>\n",
       "      <td>396</td>\n",
       "    </tr>\n",
       "    <tr>\n",
       "      <th>2015-12-12</th>\n",
       "      <td>403</td>\n",
       "      <td>403</td>\n",
       "      <td>403</td>\n",
       "      <td>333</td>\n",
       "      <td>403</td>\n",
       "      <td>403</td>\n",
       "      <td>403</td>\n",
       "      <td>401</td>\n",
       "      <td>403</td>\n",
       "      <td>403</td>\n",
       "      <td>403</td>\n",
       "      <td>403</td>\n",
       "      <td>403</td>\n",
       "      <td>403</td>\n",
       "    </tr>\n",
       "    <tr>\n",
       "      <th>2015-12-13</th>\n",
       "      <td>319</td>\n",
       "      <td>319</td>\n",
       "      <td>319</td>\n",
       "      <td>280</td>\n",
       "      <td>319</td>\n",
       "      <td>319</td>\n",
       "      <td>319</td>\n",
       "      <td>317</td>\n",
       "      <td>319</td>\n",
       "      <td>319</td>\n",
       "      <td>319</td>\n",
       "      <td>319</td>\n",
       "      <td>319</td>\n",
       "      <td>319</td>\n",
       "    </tr>\n",
       "    <tr>\n",
       "      <th>2015-12-14</th>\n",
       "      <td>447</td>\n",
       "      <td>447</td>\n",
       "      <td>447</td>\n",
       "      <td>387</td>\n",
       "      <td>447</td>\n",
       "      <td>447</td>\n",
       "      <td>446</td>\n",
       "      <td>445</td>\n",
       "      <td>447</td>\n",
       "      <td>447</td>\n",
       "      <td>447</td>\n",
       "      <td>447</td>\n",
       "      <td>447</td>\n",
       "      <td>447</td>\n",
       "    </tr>\n",
       "    <tr>\n",
       "      <th>...</th>\n",
       "      <td>...</td>\n",
       "      <td>...</td>\n",
       "      <td>...</td>\n",
       "      <td>...</td>\n",
       "      <td>...</td>\n",
       "      <td>...</td>\n",
       "      <td>...</td>\n",
       "      <td>...</td>\n",
       "      <td>...</td>\n",
       "      <td>...</td>\n",
       "      <td>...</td>\n",
       "      <td>...</td>\n",
       "      <td>...</td>\n",
       "      <td>...</td>\n",
       "    </tr>\n",
       "    <tr>\n",
       "      <th>2016-08-20</th>\n",
       "      <td>328</td>\n",
       "      <td>328</td>\n",
       "      <td>328</td>\n",
       "      <td>279</td>\n",
       "      <td>328</td>\n",
       "      <td>328</td>\n",
       "      <td>328</td>\n",
       "      <td>327</td>\n",
       "      <td>328</td>\n",
       "      <td>328</td>\n",
       "      <td>328</td>\n",
       "      <td>328</td>\n",
       "      <td>328</td>\n",
       "      <td>328</td>\n",
       "    </tr>\n",
       "    <tr>\n",
       "      <th>2016-08-21</th>\n",
       "      <td>357</td>\n",
       "      <td>357</td>\n",
       "      <td>357</td>\n",
       "      <td>299</td>\n",
       "      <td>357</td>\n",
       "      <td>357</td>\n",
       "      <td>357</td>\n",
       "      <td>352</td>\n",
       "      <td>357</td>\n",
       "      <td>357</td>\n",
       "      <td>357</td>\n",
       "      <td>357</td>\n",
       "      <td>357</td>\n",
       "      <td>357</td>\n",
       "    </tr>\n",
       "    <tr>\n",
       "      <th>2016-08-22</th>\n",
       "      <td>389</td>\n",
       "      <td>389</td>\n",
       "      <td>389</td>\n",
       "      <td>336</td>\n",
       "      <td>389</td>\n",
       "      <td>389</td>\n",
       "      <td>388</td>\n",
       "      <td>384</td>\n",
       "      <td>389</td>\n",
       "      <td>389</td>\n",
       "      <td>389</td>\n",
       "      <td>389</td>\n",
       "      <td>389</td>\n",
       "      <td>389</td>\n",
       "    </tr>\n",
       "    <tr>\n",
       "      <th>2016-08-23</th>\n",
       "      <td>439</td>\n",
       "      <td>439</td>\n",
       "      <td>439</td>\n",
       "      <td>390</td>\n",
       "      <td>439</td>\n",
       "      <td>439</td>\n",
       "      <td>439</td>\n",
       "      <td>437</td>\n",
       "      <td>439</td>\n",
       "      <td>439</td>\n",
       "      <td>439</td>\n",
       "      <td>439</td>\n",
       "      <td>439</td>\n",
       "      <td>439</td>\n",
       "    </tr>\n",
       "    <tr>\n",
       "      <th>2016-08-24</th>\n",
       "      <td>132</td>\n",
       "      <td>132</td>\n",
       "      <td>132</td>\n",
       "      <td>106</td>\n",
       "      <td>132</td>\n",
       "      <td>132</td>\n",
       "      <td>132</td>\n",
       "      <td>132</td>\n",
       "      <td>132</td>\n",
       "      <td>132</td>\n",
       "      <td>132</td>\n",
       "      <td>132</td>\n",
       "      <td>132</td>\n",
       "      <td>132</td>\n",
       "    </tr>\n",
       "  </tbody>\n",
       "</table>\n",
       "<p>259 rows × 14 columns</p>\n",
       "</div>"
      ],
      "text/plain": [
       "            Lattitude  Longitude  desc  Zipcode  Title  TimeStamp  Township  \\\n",
       "Date                                                                          \n",
       "2015-12-10        115        115   115      100    115        115       115   \n",
       "2015-12-11        396        396   396      333    396        396       395   \n",
       "2015-12-12        403        403   403      333    403        403       403   \n",
       "2015-12-13        319        319   319      280    319        319       319   \n",
       "2015-12-14        447        447   447      387    447        447       446   \n",
       "...               ...        ...   ...      ...    ...        ...       ...   \n",
       "2016-08-20        328        328   328      279    328        328       328   \n",
       "2016-08-21        357        357   357      299    357        357       357   \n",
       "2016-08-22        389        389   389      336    389        389       388   \n",
       "2016-08-23        439        439   439      390    439        439       439   \n",
       "2016-08-24        132        132   132      106    132        132       132   \n",
       "\n",
       "            Address  Dummy  Reason  Description  Month  Day of Week  hour  \n",
       "Date                                                                       \n",
       "2015-12-10      113    115     115          115    115          115   115  \n",
       "2015-12-11      391    396     396          396    396          396   396  \n",
       "2015-12-12      401    403     403          403    403          403   403  \n",
       "2015-12-13      317    319     319          319    319          319   319  \n",
       "2015-12-14      445    447     447          447    447          447   447  \n",
       "...             ...    ...     ...          ...    ...          ...   ...  \n",
       "2016-08-20      327    328     328          328    328          328   328  \n",
       "2016-08-21      352    357     357          357    357          357   357  \n",
       "2016-08-22      384    389     389          389    389          389   389  \n",
       "2016-08-23      437    439     439          439    439          439   439  \n",
       "2016-08-24      132    132     132          132    132          132   132  \n",
       "\n",
       "[259 rows x 14 columns]"
      ]
     },
     "execution_count": 369,
     "metadata": {},
     "output_type": "execute_result"
    }
   ],
   "source": [
    "dateDf = df.groupby(\"Date\").count()\n",
    "dateDf"
   ]
  },
  {
   "cell_type": "code",
   "execution_count": 370,
   "id": "b28e3ca2",
   "metadata": {},
   "outputs": [
    {
     "data": {
      "text/plain": [
       "<AxesSubplot:xlabel='Date'>"
      ]
     },
     "execution_count": 370,
     "metadata": {},
     "output_type": "execute_result"
    },
    {
     "data": {
      "image/png": "[encoded data removed]",
      "text/plain": [
       "<Figure size 864x432 with 1 Axes>"
      ]
     },
     "metadata": {
      "needs_background": "light"
     },
     "output_type": "display_data"
    }
   ],
   "source": [
    "plt.figure(figsize=(12,6))\n",
    "dateDf[\"Lattitude\"].plot()\n",
    "#plt.tight_layout(pad= 0.5)"
   ]
  },
  {
   "cell_type": "code",
   "execution_count": 373,
   "id": "7d409635",
   "metadata": {},
   "outputs": [
    {
     "data": {
      "text/plain": [
       "<AxesSubplot:xlabel='Date'>"
      ]
     },
     "execution_count": 373,
     "metadata": {},
     "output_type": "execute_result"
    },
    {
     "data": {
      "image/png": "[encoded data removed]",
      "text/plain": [
       "<Figure size 864x432 with 1 Axes>"
      ]
     },
     "metadata": {
      "needs_background": "light"
     },
     "output_type": "display_data"
    }
   ],
   "source": [
    "#Another way\n",
    "fig = plt.figure(figsize = (12,6))\n",
    "df.groupby(\"Date\").count()[\"Lattitude\"].plot()"
   ]
  },
  {
   "cell_type": "code",
   "execution_count": 374,
   "id": "11b780f4",
   "metadata": {},
   "outputs": [
    {
     "data": {
      "text/plain": [
       "Text(0.5, 1.0, 'EMS')"
      ]
     },
     "execution_count": 374,
     "metadata": {},
     "output_type": "execute_result"
    },
    {
     "data": {
      "image/png": "[encoded data removed]",
      "text/plain": [
       "<Figure size 864x216 with 1 Axes>"
      ]
     },
     "metadata": {
      "needs_background": "light"
     },
     "output_type": "display_data"
    }
   ],
   "source": [
    "#Reason = EMS\n",
    "fig = plt.figure(figsize = (12,3))\n",
    "df[df[\"Reason\"] == \"EMS\"].groupby(\"Date\").count()[\"Lattitude\"].plot()\n",
    "plt.title(\"EMS\")"
   ]
  },
  {
   "cell_type": "code",
   "execution_count": 375,
   "id": "e93c6353",
   "metadata": {},
   "outputs": [
    {
     "data": {
      "text/plain": [
       "Text(0.5, 1.0, 'Traffic')"
      ]
     },
     "execution_count": 375,
     "metadata": {},
     "output_type": "execute_result"
    },
    {
     "data": {
      "image/png": "[encoded data removed]",
      "text/plain": [
       "<Figure size 864x216 with 1 Axes>"
      ]
     },
     "metadata": {
      "needs_background": "light"
     },
     "output_type": "display_data"
    }
   ],
   "source": [
    "#Reason = Traffic\n",
    "fig = plt.figure(figsize = (12,3))\n",
    "df[df[\"Reason\"] == \"Traffic\"].groupby(\"Date\").count()[\"Lattitude\"].plot()\n",
    "plt.title(\"Traffic\")"
   ]
  },
  {
   "cell_type": "code",
   "execution_count": 376,
   "id": "638a35c3",
   "metadata": {},
   "outputs": [
    {
     "data": {
      "text/plain": [
       "Text(0.5, 1.0, 'Fire')"
      ]
     },
     "execution_count": 376,
     "metadata": {},
     "output_type": "execute_result"
    },
    {
     "data": {
      "image/png": "[encoded data removed]",
      "text/plain": [
       "<Figure size 864x216 with 1 Axes>"
      ]
     },
     "metadata": {
      "needs_background": "light"
     },
     "output_type": "display_data"
    }
   ],
   "source": [
    "#Reason = Fire\n",
    "fig = plt.figure(figsize = (12,3))\n",
    "df[df[\"Reason\"] == \"Fire\"].groupby(\"Date\").count()[\"Lattitude\"].plot()\n",
    "plt.title(\"Fire\")"
   ]
  },
  {
   "cell_type": "markdown",
   "id": "9e42e78d",
   "metadata": {},
   "source": [
    "### Now let's create a heatmap showing calls for hours and days of the week"
   ]
  },
  {
   "cell_type": "code",
   "execution_count": 377,
   "id": "0a698ce9",
   "metadata": {},
   "outputs": [
    {
     "data": {
      "text/html": [
       "<div>\n",
       "<style scoped>\n",
       "    .dataframe tbody tr th:only-of-type {\n",
       "        vertical-align: middle;\n",
       "    }\n",
       "\n",
       "    .dataframe tbody tr th {\n",
       "        vertical-align: top;\n",
       "    }\n",
       "\n",
       "    .dataframe thead th {\n",
       "        text-align: right;\n",
       "    }\n",
       "</style>\n",
       "<table border=\"1\" class=\"dataframe\">\n",
       "  <thead>\n",
       "    <tr style=\"text-align: right;\">\n",
       "      <th></th>\n",
       "      <th></th>\n",
       "      <th>Lattitude</th>\n",
       "      <th>Longitude</th>\n",
       "      <th>desc</th>\n",
       "      <th>Zipcode</th>\n",
       "      <th>Title</th>\n",
       "      <th>TimeStamp</th>\n",
       "      <th>Township</th>\n",
       "      <th>Address</th>\n",
       "      <th>Dummy</th>\n",
       "      <th>Reason</th>\n",
       "      <th>Description</th>\n",
       "      <th>Month</th>\n",
       "      <th>Date</th>\n",
       "    </tr>\n",
       "    <tr>\n",
       "      <th>Day of Week</th>\n",
       "      <th>hour</th>\n",
       "      <th></th>\n",
       "      <th></th>\n",
       "      <th></th>\n",
       "      <th></th>\n",
       "      <th></th>\n",
       "      <th></th>\n",
       "      <th></th>\n",
       "      <th></th>\n",
       "      <th></th>\n",
       "      <th></th>\n",
       "      <th></th>\n",
       "      <th></th>\n",
       "      <th></th>\n",
       "    </tr>\n",
       "  </thead>\n",
       "  <tbody>\n",
       "    <tr>\n",
       "      <th rowspan=\"5\" valign=\"top\">Fri</th>\n",
       "      <th>0</th>\n",
       "      <td>275</td>\n",
       "      <td>275</td>\n",
       "      <td>275</td>\n",
       "      <td>248</td>\n",
       "      <td>275</td>\n",
       "      <td>275</td>\n",
       "      <td>275</td>\n",
       "      <td>275</td>\n",
       "      <td>275</td>\n",
       "      <td>275</td>\n",
       "      <td>275</td>\n",
       "      <td>275</td>\n",
       "      <td>275</td>\n",
       "    </tr>\n",
       "    <tr>\n",
       "      <th>1</th>\n",
       "      <td>235</td>\n",
       "      <td>235</td>\n",
       "      <td>235</td>\n",
       "      <td>200</td>\n",
       "      <td>235</td>\n",
       "      <td>235</td>\n",
       "      <td>235</td>\n",
       "      <td>232</td>\n",
       "      <td>235</td>\n",
       "      <td>235</td>\n",
       "      <td>235</td>\n",
       "      <td>235</td>\n",
       "      <td>235</td>\n",
       "    </tr>\n",
       "    <tr>\n",
       "      <th>2</th>\n",
       "      <td>191</td>\n",
       "      <td>191</td>\n",
       "      <td>191</td>\n",
       "      <td>165</td>\n",
       "      <td>191</td>\n",
       "      <td>191</td>\n",
       "      <td>191</td>\n",
       "      <td>191</td>\n",
       "      <td>191</td>\n",
       "      <td>191</td>\n",
       "      <td>191</td>\n",
       "      <td>191</td>\n",
       "      <td>191</td>\n",
       "    </tr>\n",
       "    <tr>\n",
       "      <th>3</th>\n",
       "      <td>175</td>\n",
       "      <td>175</td>\n",
       "      <td>175</td>\n",
       "      <td>164</td>\n",
       "      <td>175</td>\n",
       "      <td>175</td>\n",
       "      <td>175</td>\n",
       "      <td>175</td>\n",
       "      <td>175</td>\n",
       "      <td>175</td>\n",
       "      <td>175</td>\n",
       "      <td>175</td>\n",
       "      <td>175</td>\n",
       "    </tr>\n",
       "    <tr>\n",
       "      <th>4</th>\n",
       "      <td>201</td>\n",
       "      <td>201</td>\n",
       "      <td>201</td>\n",
       "      <td>184</td>\n",
       "      <td>201</td>\n",
       "      <td>201</td>\n",
       "      <td>201</td>\n",
       "      <td>201</td>\n",
       "      <td>201</td>\n",
       "      <td>201</td>\n",
       "      <td>201</td>\n",
       "      <td>201</td>\n",
       "      <td>201</td>\n",
       "    </tr>\n",
       "    <tr>\n",
       "      <th>...</th>\n",
       "      <th>...</th>\n",
       "      <td>...</td>\n",
       "      <td>...</td>\n",
       "      <td>...</td>\n",
       "      <td>...</td>\n",
       "      <td>...</td>\n",
       "      <td>...</td>\n",
       "      <td>...</td>\n",
       "      <td>...</td>\n",
       "      <td>...</td>\n",
       "      <td>...</td>\n",
       "      <td>...</td>\n",
       "      <td>...</td>\n",
       "      <td>...</td>\n",
       "    </tr>\n",
       "    <tr>\n",
       "      <th rowspan=\"5\" valign=\"top\">Wed</th>\n",
       "      <th>19</th>\n",
       "      <td>686</td>\n",
       "      <td>686</td>\n",
       "      <td>686</td>\n",
       "      <td>590</td>\n",
       "      <td>686</td>\n",
       "      <td>686</td>\n",
       "      <td>686</td>\n",
       "      <td>682</td>\n",
       "      <td>686</td>\n",
       "      <td>686</td>\n",
       "      <td>686</td>\n",
       "      <td>686</td>\n",
       "      <td>686</td>\n",
       "    </tr>\n",
       "    <tr>\n",
       "      <th>20</th>\n",
       "      <td>668</td>\n",
       "      <td>668</td>\n",
       "      <td>668</td>\n",
       "      <td>597</td>\n",
       "      <td>668</td>\n",
       "      <td>668</td>\n",
       "      <td>668</td>\n",
       "      <td>662</td>\n",
       "      <td>668</td>\n",
       "      <td>668</td>\n",
       "      <td>668</td>\n",
       "      <td>668</td>\n",
       "      <td>668</td>\n",
       "    </tr>\n",
       "    <tr>\n",
       "      <th>21</th>\n",
       "      <td>575</td>\n",
       "      <td>575</td>\n",
       "      <td>575</td>\n",
       "      <td>508</td>\n",
       "      <td>575</td>\n",
       "      <td>575</td>\n",
       "      <td>574</td>\n",
       "      <td>572</td>\n",
       "      <td>575</td>\n",
       "      <td>575</td>\n",
       "      <td>575</td>\n",
       "      <td>575</td>\n",
       "      <td>575</td>\n",
       "    </tr>\n",
       "    <tr>\n",
       "      <th>22</th>\n",
       "      <td>490</td>\n",
       "      <td>490</td>\n",
       "      <td>490</td>\n",
       "      <td>432</td>\n",
       "      <td>490</td>\n",
       "      <td>490</td>\n",
       "      <td>490</td>\n",
       "      <td>485</td>\n",
       "      <td>490</td>\n",
       "      <td>490</td>\n",
       "      <td>490</td>\n",
       "      <td>490</td>\n",
       "      <td>490</td>\n",
       "    </tr>\n",
       "    <tr>\n",
       "      <th>23</th>\n",
       "      <td>335</td>\n",
       "      <td>335</td>\n",
       "      <td>335</td>\n",
       "      <td>294</td>\n",
       "      <td>335</td>\n",
       "      <td>335</td>\n",
       "      <td>334</td>\n",
       "      <td>335</td>\n",
       "      <td>335</td>\n",
       "      <td>335</td>\n",
       "      <td>335</td>\n",
       "      <td>335</td>\n",
       "      <td>335</td>\n",
       "    </tr>\n",
       "  </tbody>\n",
       "</table>\n",
       "<p>168 rows × 13 columns</p>\n",
       "</div>"
      ],
      "text/plain": [
       "                  Lattitude  Longitude  desc  Zipcode  Title  TimeStamp  \\\n",
       "Day of Week hour                                                          \n",
       "Fri         0           275        275   275      248    275        275   \n",
       "            1           235        235   235      200    235        235   \n",
       "            2           191        191   191      165    191        191   \n",
       "            3           175        175   175      164    175        175   \n",
       "            4           201        201   201      184    201        201   \n",
       "...                     ...        ...   ...      ...    ...        ...   \n",
       "Wed         19          686        686   686      590    686        686   \n",
       "            20          668        668   668      597    668        668   \n",
       "            21          575        575   575      508    575        575   \n",
       "            22          490        490   490      432    490        490   \n",
       "            23          335        335   335      294    335        335   \n",
       "\n",
       "                  Township  Address  Dummy  Reason  Description  Month  Date  \n",
       "Day of Week hour                                                              \n",
       "Fri         0          275      275    275     275          275    275   275  \n",
       "            1          235      232    235     235          235    235   235  \n",
       "            2          191      191    191     191          191    191   191  \n",
       "            3          175      175    175     175          175    175   175  \n",
       "            4          201      201    201     201          201    201   201  \n",
       "...                    ...      ...    ...     ...          ...    ...   ...  \n",
       "Wed         19         686      682    686     686          686    686   686  \n",
       "            20         668      662    668     668          668    668   668  \n",
       "            21         574      572    575     575          575    575   575  \n",
       "            22         490      485    490     490          490    490   490  \n",
       "            23         334      335    335     335          335    335   335  \n",
       "\n",
       "[168 rows x 13 columns]"
      ]
     },
     "execution_count": 377,
     "metadata": {},
     "output_type": "execute_result"
    }
   ],
   "source": [
    "df.groupby(by = [\"Day of Week\",\"hour\"]).count()"
   ]
  },
  {
   "cell_type": "code",
   "execution_count": 383,
   "id": "59f72e7d",
   "metadata": {},
   "outputs": [],
   "source": [
    "dayHour = df.groupby(by = [\"Day of Week\",\"hour\"]).count().unstack(level = 1)[\"Reason\"]"
   ]
  },
  {
   "cell_type": "code",
   "execution_count": 384,
   "id": "112c5137",
   "metadata": {},
   "outputs": [
    {
     "data": {
      "text/html": [
       "<div>\n",
       "<style scoped>\n",
       "    .dataframe tbody tr th:only-of-type {\n",
       "        vertical-align: middle;\n",
       "    }\n",
       "\n",
       "    .dataframe tbody tr th {\n",
       "        vertical-align: top;\n",
       "    }\n",
       "\n",
       "    .dataframe thead th {\n",
       "        text-align: right;\n",
       "    }\n",
       "</style>\n",
       "<table border=\"1\" class=\"dataframe\">\n",
       "  <thead>\n",
       "    <tr style=\"text-align: right;\">\n",
       "      <th>hour</th>\n",
       "      <th>0</th>\n",
       "      <th>1</th>\n",
       "      <th>2</th>\n",
       "      <th>3</th>\n",
       "      <th>4</th>\n",
       "      <th>5</th>\n",
       "      <th>6</th>\n",
       "      <th>7</th>\n",
       "      <th>8</th>\n",
       "      <th>9</th>\n",
       "      <th>...</th>\n",
       "      <th>14</th>\n",
       "      <th>15</th>\n",
       "      <th>16</th>\n",
       "      <th>17</th>\n",
       "      <th>18</th>\n",
       "      <th>19</th>\n",
       "      <th>20</th>\n",
       "      <th>21</th>\n",
       "      <th>22</th>\n",
       "      <th>23</th>\n",
       "    </tr>\n",
       "    <tr>\n",
       "      <th>Day of Week</th>\n",
       "      <th></th>\n",
       "      <th></th>\n",
       "      <th></th>\n",
       "      <th></th>\n",
       "      <th></th>\n",
       "      <th></th>\n",
       "      <th></th>\n",
       "      <th></th>\n",
       "      <th></th>\n",
       "      <th></th>\n",
       "      <th></th>\n",
       "      <th></th>\n",
       "      <th></th>\n",
       "      <th></th>\n",
       "      <th></th>\n",
       "      <th></th>\n",
       "      <th></th>\n",
       "      <th></th>\n",
       "      <th></th>\n",
       "      <th></th>\n",
       "      <th></th>\n",
       "    </tr>\n",
       "  </thead>\n",
       "  <tbody>\n",
       "    <tr>\n",
       "      <th>Fri</th>\n",
       "      <td>275</td>\n",
       "      <td>235</td>\n",
       "      <td>191</td>\n",
       "      <td>175</td>\n",
       "      <td>201</td>\n",
       "      <td>194</td>\n",
       "      <td>372</td>\n",
       "      <td>598</td>\n",
       "      <td>742</td>\n",
       "      <td>752</td>\n",
       "      <td>...</td>\n",
       "      <td>932</td>\n",
       "      <td>980</td>\n",
       "      <td>1039</td>\n",
       "      <td>980</td>\n",
       "      <td>820</td>\n",
       "      <td>696</td>\n",
       "      <td>667</td>\n",
       "      <td>559</td>\n",
       "      <td>514</td>\n",
       "      <td>474</td>\n",
       "    </tr>\n",
       "    <tr>\n",
       "      <th>Mon</th>\n",
       "      <td>282</td>\n",
       "      <td>221</td>\n",
       "      <td>201</td>\n",
       "      <td>194</td>\n",
       "      <td>204</td>\n",
       "      <td>267</td>\n",
       "      <td>397</td>\n",
       "      <td>653</td>\n",
       "      <td>819</td>\n",
       "      <td>786</td>\n",
       "      <td>...</td>\n",
       "      <td>869</td>\n",
       "      <td>913</td>\n",
       "      <td>989</td>\n",
       "      <td>997</td>\n",
       "      <td>885</td>\n",
       "      <td>746</td>\n",
       "      <td>613</td>\n",
       "      <td>497</td>\n",
       "      <td>472</td>\n",
       "      <td>325</td>\n",
       "    </tr>\n",
       "    <tr>\n",
       "      <th>Sat</th>\n",
       "      <td>375</td>\n",
       "      <td>301</td>\n",
       "      <td>263</td>\n",
       "      <td>260</td>\n",
       "      <td>224</td>\n",
       "      <td>231</td>\n",
       "      <td>257</td>\n",
       "      <td>391</td>\n",
       "      <td>459</td>\n",
       "      <td>640</td>\n",
       "      <td>...</td>\n",
       "      <td>789</td>\n",
       "      <td>796</td>\n",
       "      <td>848</td>\n",
       "      <td>757</td>\n",
       "      <td>778</td>\n",
       "      <td>696</td>\n",
       "      <td>628</td>\n",
       "      <td>572</td>\n",
       "      <td>506</td>\n",
       "      <td>467</td>\n",
       "    </tr>\n",
       "    <tr>\n",
       "      <th>Sun</th>\n",
       "      <td>383</td>\n",
       "      <td>306</td>\n",
       "      <td>286</td>\n",
       "      <td>268</td>\n",
       "      <td>242</td>\n",
       "      <td>240</td>\n",
       "      <td>300</td>\n",
       "      <td>402</td>\n",
       "      <td>483</td>\n",
       "      <td>620</td>\n",
       "      <td>...</td>\n",
       "      <td>684</td>\n",
       "      <td>691</td>\n",
       "      <td>663</td>\n",
       "      <td>714</td>\n",
       "      <td>670</td>\n",
       "      <td>655</td>\n",
       "      <td>537</td>\n",
       "      <td>461</td>\n",
       "      <td>415</td>\n",
       "      <td>330</td>\n",
       "    </tr>\n",
       "    <tr>\n",
       "      <th>Thu</th>\n",
       "      <td>278</td>\n",
       "      <td>202</td>\n",
       "      <td>233</td>\n",
       "      <td>159</td>\n",
       "      <td>182</td>\n",
       "      <td>203</td>\n",
       "      <td>362</td>\n",
       "      <td>570</td>\n",
       "      <td>777</td>\n",
       "      <td>828</td>\n",
       "      <td>...</td>\n",
       "      <td>876</td>\n",
       "      <td>969</td>\n",
       "      <td>935</td>\n",
       "      <td>1013</td>\n",
       "      <td>810</td>\n",
       "      <td>698</td>\n",
       "      <td>617</td>\n",
       "      <td>553</td>\n",
       "      <td>424</td>\n",
       "      <td>354</td>\n",
       "    </tr>\n",
       "    <tr>\n",
       "      <th>Tue</th>\n",
       "      <td>269</td>\n",
       "      <td>240</td>\n",
       "      <td>186</td>\n",
       "      <td>170</td>\n",
       "      <td>209</td>\n",
       "      <td>239</td>\n",
       "      <td>415</td>\n",
       "      <td>655</td>\n",
       "      <td>889</td>\n",
       "      <td>880</td>\n",
       "      <td>...</td>\n",
       "      <td>943</td>\n",
       "      <td>938</td>\n",
       "      <td>1026</td>\n",
       "      <td>1019</td>\n",
       "      <td>905</td>\n",
       "      <td>731</td>\n",
       "      <td>647</td>\n",
       "      <td>571</td>\n",
       "      <td>462</td>\n",
       "      <td>274</td>\n",
       "    </tr>\n",
       "    <tr>\n",
       "      <th>Wed</th>\n",
       "      <td>250</td>\n",
       "      <td>216</td>\n",
       "      <td>189</td>\n",
       "      <td>209</td>\n",
       "      <td>156</td>\n",
       "      <td>255</td>\n",
       "      <td>410</td>\n",
       "      <td>701</td>\n",
       "      <td>875</td>\n",
       "      <td>808</td>\n",
       "      <td>...</td>\n",
       "      <td>904</td>\n",
       "      <td>867</td>\n",
       "      <td>990</td>\n",
       "      <td>1037</td>\n",
       "      <td>894</td>\n",
       "      <td>686</td>\n",
       "      <td>668</td>\n",
       "      <td>575</td>\n",
       "      <td>490</td>\n",
       "      <td>335</td>\n",
       "    </tr>\n",
       "  </tbody>\n",
       "</table>\n",
       "<p>7 rows × 24 columns</p>\n",
       "</div>"
      ],
      "text/plain": [
       "hour          0    1    2    3    4    5    6    7    8    9   ...   14   15  \\\n",
       "Day of Week                                                    ...             \n",
       "Fri          275  235  191  175  201  194  372  598  742  752  ...  932  980   \n",
       "Mon          282  221  201  194  204  267  397  653  819  786  ...  869  913   \n",
       "Sat          375  301  263  260  224  231  257  391  459  640  ...  789  796   \n",
       "Sun          383  306  286  268  242  240  300  402  483  620  ...  684  691   \n",
       "Thu          278  202  233  159  182  203  362  570  777  828  ...  876  969   \n",
       "Tue          269  240  186  170  209  239  415  655  889  880  ...  943  938   \n",
       "Wed          250  216  189  209  156  255  410  701  875  808  ...  904  867   \n",
       "\n",
       "hour           16    17   18   19   20   21   22   23  \n",
       "Day of Week                                            \n",
       "Fri          1039   980  820  696  667  559  514  474  \n",
       "Mon           989   997  885  746  613  497  472  325  \n",
       "Sat           848   757  778  696  628  572  506  467  \n",
       "Sun           663   714  670  655  537  461  415  330  \n",
       "Thu           935  1013  810  698  617  553  424  354  \n",
       "Tue          1026  1019  905  731  647  571  462  274  \n",
       "Wed           990  1037  894  686  668  575  490  335  \n",
       "\n",
       "[7 rows x 24 columns]"
      ]
     },
     "execution_count": 384,
     "metadata": {},
     "output_type": "execute_result"
    }
   ],
   "source": [
    "dayHour"
   ]
  },
  {
   "cell_type": "code",
   "execution_count": 388,
   "id": "acc73302",
   "metadata": {},
   "outputs": [
    {
     "data": {
      "text/plain": [
       "<AxesSubplot:xlabel='hour', ylabel='Day of Week'>"
      ]
     },
     "execution_count": 388,
     "metadata": {},
     "output_type": "execute_result"
    },
    {
     "data": {
      "image/png": "[encoded data removed]",
      "text/plain": [
       "<Figure size 720x360 with 2 Axes>"
      ]
     },
     "metadata": {
      "needs_background": "light"
     },
     "output_type": "display_data"
    }
   ],
   "source": [
    "plt.figure(figsize = (10,5))\n",
    "sns.heatmap(dayHour, cmap= \"coolwarm\")"
   ]
  },
  {
   "cell_type": "code",
   "execution_count": 209,
   "id": "ee30249e",
   "metadata": {},
   "outputs": [],
   "source": [
    "#Now let's create a heatmap showing calls for hours and Month of the week"
   ]
  },
  {
   "cell_type": "code",
   "execution_count": 389,
   "id": "b4319f0f",
   "metadata": {},
   "outputs": [],
   "source": [
    "MonthHour = df.groupby(by = [\"Month\",\"hour\"]).count().unstack(level = 1)[\"Reason\"]"
   ]
  },
  {
   "cell_type": "code",
   "execution_count": 390,
   "id": "987f106e",
   "metadata": {},
   "outputs": [
    {
     "data": {
      "text/plain": [
       "<AxesSubplot:xlabel='hour', ylabel='Month'>"
      ]
     },
     "execution_count": 390,
     "metadata": {},
     "output_type": "execute_result"
    },
    {
     "data": {
      "image/png": "[encoded data removed]",
      "text/plain": [
       "<Figure size 720x432 with 2 Axes>"
      ]
     },
     "metadata": {
      "needs_background": "light"
     },
     "output_type": "display_data"
    }
   ],
   "source": [
    "plt.figure(figsize = (10,6))\n",
    "sns.heatmap(MonthHour, cmap = \"coolwarm\")"
   ]
  },
  {
   "cell_type": "code",
   "execution_count": 391,
   "id": "90ef3c96",
   "metadata": {},
   "outputs": [
    {
     "data": {
      "text/plain": [
       "<seaborn.matrix.ClusterGrid at 0x7fb0d292fc70>"
      ]
     },
     "execution_count": 391,
     "metadata": {},
     "output_type": "execute_result"
    },
    {
     "data": {
      "image/png": "[encoded data removed]",
      "text/plain": [
       "<Figure size 720x720 with 4 Axes>"
      ]
     },
     "metadata": {
      "needs_background": "light"
     },
     "output_type": "display_data"
    }
   ],
   "source": [
    "sns.clustermap(MonthHour, cmap = \"coolwarm\")"
   ]
  },
  {
   "cell_type": "code",
   "execution_count": null,
   "id": "18f46b5c",
   "metadata": {},
   "outputs": [],
   "source": []
  }
 ],
 "metadata": {
  "kernelspec": {
   "display_name": "Python 3",
   "language": "python",
   "name": "python3"
  },
  "language_info": {
   "codemirror_mode": {
    "name": "ipython",
    "version": 3
   },
   "file_extension": ".py",
   "mimetype": "text/x-python",
   "name": "python",
   "nbconvert_exporter": "python",
   "pygments_lexer": "ipython3",
   "version": "3.8.8"
  }
 },
 "nbformat": 4,
 "nbformat_minor": 5
}
